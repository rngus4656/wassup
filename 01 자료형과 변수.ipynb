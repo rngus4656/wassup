{
 "cells": [
  {
   "cell_type": "markdown",
   "id": "d0f8a270",
   "metadata": {},
   "source": [
    "# 숫자형\n"
   ]
  },
  {
   "cell_type": "markdown",
   "id": "684ce22c",
   "metadata": {},
   "source": [
    "정수형\n",
    "--"
   ]
  },
  {
   "cell_type": "code",
   "execution_count": 1,
   "id": "0549f327",
   "metadata": {
    "ExecuteTime": {
     "end_time": "2023-11-23T02:19:23.740476Z",
     "start_time": "2023-11-23T02:19:23.737979Z"
    }
   },
   "outputs": [],
   "source": [
    "a = 123"
   ]
  },
  {
   "cell_type": "code",
   "execution_count": 2,
   "id": "6a9e8b7a",
   "metadata": {
    "ExecuteTime": {
     "end_time": "2023-11-23T02:19:24.642026Z",
     "start_time": "2023-11-23T02:19:24.636999Z"
    }
   },
   "outputs": [
    {
     "data": {
      "text/plain": [
       "123"
      ]
     },
     "execution_count": 2,
     "metadata": {},
     "output_type": "execute_result"
    }
   ],
   "source": [
    "a"
   ]
  },
  {
   "cell_type": "code",
   "execution_count": 3,
   "id": "d626407c",
   "metadata": {
    "ExecuteTime": {
     "end_time": "2023-11-23T02:20:54.399609Z",
     "start_time": "2023-11-23T02:20:54.396785Z"
    }
   },
   "outputs": [],
   "source": [
    "a = -173"
   ]
  },
  {
   "cell_type": "code",
   "execution_count": 4,
   "id": "59429d84",
   "metadata": {
    "ExecuteTime": {
     "end_time": "2023-11-23T02:20:56.350577Z",
     "start_time": "2023-11-23T02:20:56.347069Z"
    }
   },
   "outputs": [
    {
     "data": {
      "text/plain": [
       "-173"
      ]
     },
     "execution_count": 4,
     "metadata": {},
     "output_type": "execute_result"
    }
   ],
   "source": [
    "a"
   ]
  },
  {
   "cell_type": "code",
   "execution_count": 5,
   "id": "54fcc9a7",
   "metadata": {
    "ExecuteTime": {
     "end_time": "2023-11-23T02:20:59.382310Z",
     "start_time": "2023-11-23T02:20:59.379662Z"
    }
   },
   "outputs": [],
   "source": [
    "a = 0"
   ]
  },
  {
   "cell_type": "code",
   "execution_count": 6,
   "id": "54e44ffd",
   "metadata": {
    "ExecuteTime": {
     "end_time": "2023-11-23T02:21:00.881020Z",
     "start_time": "2023-11-23T02:21:00.877506Z"
    }
   },
   "outputs": [
    {
     "data": {
      "text/plain": [
       "0"
      ]
     },
     "execution_count": 6,
     "metadata": {},
     "output_type": "execute_result"
    }
   ],
   "source": [
    "a"
   ]
  },
  {
   "cell_type": "markdown",
   "id": "802cf895",
   "metadata": {},
   "source": [
    "## 실수형"
   ]
  },
  {
   "cell_type": "code",
   "execution_count": 7,
   "id": "fd9170d3",
   "metadata": {
    "ExecuteTime": {
     "end_time": "2023-11-23T02:22:00.250997Z",
     "start_time": "2023-11-23T02:22:00.247994Z"
    }
   },
   "outputs": [],
   "source": [
    "a=1.2"
   ]
  },
  {
   "cell_type": "code",
   "execution_count": 8,
   "id": "1dec190b",
   "metadata": {
    "ExecuteTime": {
     "end_time": "2023-11-23T02:22:01.221380Z",
     "start_time": "2023-11-23T02:22:01.217870Z"
    }
   },
   "outputs": [
    {
     "data": {
      "text/plain": [
       "1.2"
      ]
     },
     "execution_count": 8,
     "metadata": {},
     "output_type": "execute_result"
    }
   ],
   "source": [
    "a"
   ]
  },
  {
   "cell_type": "code",
   "execution_count": 9,
   "id": "77113abc",
   "metadata": {
    "ExecuteTime": {
     "end_time": "2023-11-23T02:22:09.209133Z",
     "start_time": "2023-11-23T02:22:09.206644Z"
    }
   },
   "outputs": [],
   "source": [
    "a=-3.45"
   ]
  },
  {
   "cell_type": "code",
   "execution_count": 10,
   "id": "85f90f2b",
   "metadata": {
    "ExecuteTime": {
     "end_time": "2023-11-23T02:22:11.559386Z",
     "start_time": "2023-11-23T02:22:11.555751Z"
    }
   },
   "outputs": [
    {
     "data": {
      "text/plain": [
       "-3.45"
      ]
     },
     "execution_count": 10,
     "metadata": {},
     "output_type": "execute_result"
    }
   ],
   "source": [
    "a"
   ]
  },
  {
   "cell_type": "code",
   "execution_count": 13,
   "id": "995672e1",
   "metadata": {
    "ExecuteTime": {
     "end_time": "2023-11-23T02:22:40.676995Z",
     "start_time": "2023-11-23T02:22:40.673980Z"
    }
   },
   "outputs": [
    {
     "data": {
      "text/plain": [
       "42400000000.0"
      ]
     },
     "execution_count": 13,
     "metadata": {},
     "output_type": "execute_result"
    }
   ],
   "source": [
    "# 컴퓨터식 지수표현\n",
    "a = 4.24E10\n",
    "a"
   ]
  },
  {
   "cell_type": "code",
   "execution_count": 14,
   "id": "c1024c8c",
   "metadata": {
    "ExecuteTime": {
     "end_time": "2023-11-23T02:23:06.344977Z",
     "start_time": "2023-11-23T02:23:06.341606Z"
    }
   },
   "outputs": [
    {
     "data": {
      "text/plain": [
       "4.24e-10"
      ]
     },
     "execution_count": 14,
     "metadata": {},
     "output_type": "execute_result"
    }
   ],
   "source": [
    "a = 4.24E-10\n",
    "a"
   ]
  },
  {
   "cell_type": "code",
   "execution_count": 18,
   "id": "a3a043d8",
   "metadata": {
    "ExecuteTime": {
     "end_time": "2023-11-23T02:24:09.148817Z",
     "start_time": "2023-11-23T02:24:09.146108Z"
    }
   },
   "outputs": [
    {
     "data": {
      "text/plain": [
       "127"
      ]
     },
     "execution_count": 18,
     "metadata": {},
     "output_type": "execute_result"
    }
   ],
   "source": [
    "#8진수와 16진수\n",
    "a=0o177\n",
    "a"
   ]
  },
  {
   "cell_type": "code",
   "execution_count": 16,
   "id": "a37d4cb6",
   "metadata": {
    "ExecuteTime": {
     "end_time": "2023-11-23T02:23:41.653674Z",
     "start_time": "2023-11-23T02:23:41.649586Z"
    }
   },
   "outputs": [
    {
     "data": {
      "text/plain": [
       "int"
      ]
     },
     "execution_count": 16,
     "metadata": {},
     "output_type": "execute_result"
    }
   ],
   "source": [
    "type(a)"
   ]
  },
  {
   "cell_type": "code",
   "execution_count": 17,
   "id": "d06bbb83",
   "metadata": {
    "ExecuteTime": {
     "end_time": "2023-11-23T02:23:59.593295Z",
     "start_time": "2023-11-23T02:23:59.588920Z"
    }
   },
   "outputs": [
    {
     "data": {
      "text/plain": [
       "2303"
      ]
     },
     "execution_count": 17,
     "metadata": {},
     "output_type": "execute_result"
    }
   ],
   "source": [
    "a = 0x8ff\n",
    "a"
   ]
  },
  {
   "cell_type": "markdown",
   "id": "606a10d2",
   "metadata": {},
   "source": [
    "## 사칙연산"
   ]
  },
  {
   "cell_type": "code",
   "execution_count": 19,
   "id": "32f7eae0",
   "metadata": {
    "ExecuteTime": {
     "end_time": "2023-11-23T02:24:48.366125Z",
     "start_time": "2023-11-23T02:24:48.362874Z"
    }
   },
   "outputs": [
    {
     "data": {
      "text/plain": [
       "7"
      ]
     },
     "execution_count": 19,
     "metadata": {},
     "output_type": "execute_result"
    }
   ],
   "source": [
    "a = 3\n",
    "b = 4\n",
    "a+b"
   ]
  },
  {
   "cell_type": "code",
   "execution_count": 20,
   "id": "91d15879",
   "metadata": {
    "ExecuteTime": {
     "end_time": "2023-11-23T02:25:07.548486Z",
     "start_time": "2023-11-23T02:25:07.544922Z"
    }
   },
   "outputs": [
    {
     "data": {
      "text/plain": [
       "12"
      ]
     },
     "execution_count": 20,
     "metadata": {},
     "output_type": "execute_result"
    }
   ],
   "source": [
    "a*b"
   ]
  },
  {
   "cell_type": "code",
   "execution_count": 21,
   "id": "0fde5cc2",
   "metadata": {
    "ExecuteTime": {
     "end_time": "2023-11-23T02:25:09.284673Z",
     "start_time": "2023-11-23T02:25:09.280762Z"
    }
   },
   "outputs": [
    {
     "data": {
      "text/plain": [
       "0.75"
      ]
     },
     "execution_count": 21,
     "metadata": {},
     "output_type": "execute_result"
    }
   ],
   "source": [
    "a/b"
   ]
  },
  {
   "cell_type": "code",
   "execution_count": 22,
   "id": "8aa55929",
   "metadata": {
    "ExecuteTime": {
     "end_time": "2023-11-23T02:26:14.782820Z",
     "start_time": "2023-11-23T02:26:14.779946Z"
    }
   },
   "outputs": [
    {
     "data": {
      "text/plain": [
       "81"
      ]
     },
     "execution_count": 22,
     "metadata": {},
     "output_type": "execute_result"
    }
   ],
   "source": [
    "# x의 y제곱\n",
    "a ** b"
   ]
  },
  {
   "cell_type": "code",
   "execution_count": 23,
   "id": "b5134bdc",
   "metadata": {
    "ExecuteTime": {
     "end_time": "2023-11-23T02:27:18.273673Z",
     "start_time": "2023-11-23T02:27:18.270653Z"
    }
   },
   "outputs": [
    {
     "data": {
      "text/plain": [
       "1"
      ]
     },
     "execution_count": 23,
     "metadata": {},
     "output_type": "execute_result"
    }
   ],
   "source": [
    "# 나눗셈 나머지 반환\n",
    "7 % 3"
   ]
  },
  {
   "cell_type": "code",
   "execution_count": 24,
   "id": "81dc6aa6",
   "metadata": {
    "ExecuteTime": {
     "end_time": "2023-11-23T02:27:25.176000Z",
     "start_time": "2023-11-23T02:27:25.172705Z"
    }
   },
   "outputs": [
    {
     "data": {
      "text/plain": [
       "3"
      ]
     },
     "execution_count": 24,
     "metadata": {},
     "output_type": "execute_result"
    }
   ],
   "source": [
    "3 % 7"
   ]
  },
  {
   "cell_type": "code",
   "execution_count": 25,
   "id": "642b43bd",
   "metadata": {
    "ExecuteTime": {
     "end_time": "2023-11-23T02:27:43.745481Z",
     "start_time": "2023-11-23T02:27:43.741644Z"
    }
   },
   "outputs": [
    {
     "data": {
      "text/plain": [
       "1.75"
      ]
     },
     "execution_count": 25,
     "metadata": {},
     "output_type": "execute_result"
    }
   ],
   "source": [
    "# 나눗셈 몫의 반환\n",
    "7/4"
   ]
  },
  {
   "cell_type": "code",
   "execution_count": 26,
   "id": "c7d6a32a",
   "metadata": {
    "ExecuteTime": {
     "end_time": "2023-11-23T02:27:49.229547Z",
     "start_time": "2023-11-23T02:27:49.225860Z"
    }
   },
   "outputs": [
    {
     "data": {
      "text/plain": [
       "1"
      ]
     },
     "execution_count": 26,
     "metadata": {},
     "output_type": "execute_result"
    }
   ],
   "source": [
    "7//4"
   ]
  },
  {
   "cell_type": "code",
   "execution_count": 27,
   "id": "5cae4126",
   "metadata": {
    "ExecuteTime": {
     "end_time": "2023-11-23T02:28:02.453108Z",
     "start_time": "2023-11-23T02:28:02.449147Z"
    }
   },
   "outputs": [
    {
     "data": {
      "text/plain": [
       "3"
      ]
     },
     "execution_count": 27,
     "metadata": {},
     "output_type": "execute_result"
    }
   ],
   "source": [
    "7%4"
   ]
  },
  {
   "cell_type": "markdown",
   "id": "347cccc1",
   "metadata": {},
   "source": [
    "# 문자열"
   ]
  },
  {
   "cell_type": "code",
   "execution_count": 28,
   "id": "9a605fdd",
   "metadata": {
    "ExecuteTime": {
     "end_time": "2023-11-23T02:32:50.946674Z",
     "start_time": "2023-11-23T02:32:50.943645Z"
    }
   },
   "outputs": [
    {
     "data": {
      "text/plain": [
       "'Hello World'"
      ]
     },
     "execution_count": 28,
     "metadata": {},
     "output_type": "execute_result"
    }
   ],
   "source": [
    "\"Hello World\""
   ]
  },
  {
   "cell_type": "code",
   "execution_count": 29,
   "id": "e89fbf82",
   "metadata": {
    "ExecuteTime": {
     "end_time": "2023-11-23T02:32:55.550650Z",
     "start_time": "2023-11-23T02:32:55.547012Z"
    }
   },
   "outputs": [
    {
     "data": {
      "text/plain": [
       "'Hello World'"
      ]
     },
     "execution_count": 29,
     "metadata": {},
     "output_type": "execute_result"
    }
   ],
   "source": [
    "'Hello World'"
   ]
  },
  {
   "cell_type": "code",
   "execution_count": 33,
   "id": "0accb5bc",
   "metadata": {
    "ExecuteTime": {
     "end_time": "2023-11-23T02:34:10.448968Z",
     "start_time": "2023-11-23T02:34:10.444965Z"
    }
   },
   "outputs": [
    {
     "data": {
      "text/plain": [
       "'Life is short. You need python'"
      ]
     },
     "execution_count": 33,
     "metadata": {},
     "output_type": "execute_result"
    }
   ],
   "source": [
    "\"\"\"Life is short. You need python\"\"\""
   ]
  },
  {
   "cell_type": "code",
   "execution_count": 34,
   "id": "b06b7346",
   "metadata": {
    "ExecuteTime": {
     "end_time": "2023-11-23T02:35:10.504833Z",
     "start_time": "2023-11-23T02:35:10.501444Z"
    }
   },
   "outputs": [
    {
     "data": {
      "text/plain": [
       "\"Python's favorite food is peal\""
      ]
     },
     "execution_count": 34,
     "metadata": {},
     "output_type": "execute_result"
    }
   ],
   "source": [
    "\"Python's favorite food is peal\""
   ]
  },
  {
   "cell_type": "code",
   "execution_count": 35,
   "id": "49e97615",
   "metadata": {
    "ExecuteTime": {
     "end_time": "2023-11-23T02:36:50.821256Z",
     "start_time": "2023-11-23T02:36:50.817255Z"
    }
   },
   "outputs": [
    {
     "data": {
      "text/plain": [
       "\"Python's favorite food is peal\""
      ]
     },
     "execution_count": 35,
     "metadata": {},
     "output_type": "execute_result"
    }
   ],
   "source": [
    "food = \"Python's favorite food is peal\"\n",
    "food"
   ]
  },
  {
   "cell_type": "code",
   "execution_count": 37,
   "id": "2e1e94a4",
   "metadata": {
    "ExecuteTime": {
     "end_time": "2023-11-23T02:38:14.626672Z",
     "start_time": "2023-11-23T02:38:14.622571Z"
    }
   },
   "outputs": [
    {
     "data": {
      "text/plain": [
       "'\"Python is very easy.\" he says.'"
      ]
     },
     "execution_count": 37,
     "metadata": {},
     "output_type": "execute_result"
    }
   ],
   "source": [
    "'\"Python is very easy.\" he says.'"
   ]
  },
  {
   "cell_type": "code",
   "execution_count": 40,
   "id": "d13d68ba",
   "metadata": {
    "ExecuteTime": {
     "end_time": "2023-11-23T02:41:20.661653Z",
     "start_time": "2023-11-23T02:41:20.658031Z"
    }
   },
   "outputs": [
    {
     "data": {
      "text/plain": [
       "(\"Python's favorite food is peal\", '\"Python is very easy.\" he says.')"
      ]
     },
     "execution_count": 40,
     "metadata": {},
     "output_type": "execute_result"
    }
   ],
   "source": [
    "# 백슬래시를 통해 따옴표를 문자열에 포함\n",
    "food = 'Python\\'s favorite food is peal'\n",
    "say = '\\\"Python is very easy.\\\" he says.'\n",
    "food, say"
   ]
  },
  {
   "cell_type": "markdown",
   "id": "b167a318",
   "metadata": {},
   "source": [
    "### 여러줄인 문자열을 변수에 대입하고 싶을때"
   ]
  },
  {
   "cell_type": "code",
   "execution_count": 41,
   "id": "235a86ba",
   "metadata": {
    "ExecuteTime": {
     "end_time": "2023-11-23T02:43:36.401226Z",
     "start_time": "2023-11-23T02:43:36.398296Z"
    }
   },
   "outputs": [
    {
     "data": {
      "text/plain": [
       "'Life is short. \\nYou need python'"
      ]
     },
     "execution_count": 41,
     "metadata": {},
     "output_type": "execute_result"
    }
   ],
   "source": [
    "#줄을 바꾸는 이스케이프코드 \\n\n",
    "multiline = \"\"\"Life is short. \\nYou need python\"\"\"\n",
    "multiline"
   ]
  },
  {
   "cell_type": "code",
   "execution_count": 42,
   "id": "3d5fbc37",
   "metadata": {
    "ExecuteTime": {
     "end_time": "2023-11-23T02:43:45.316163Z",
     "start_time": "2023-11-23T02:43:45.313481Z"
    }
   },
   "outputs": [
    {
     "name": "stdout",
     "output_type": "stream",
     "text": [
      "Life is short. \n",
      "You need python\n"
     ]
    }
   ],
   "source": [
    "print(multiline)"
   ]
  },
  {
   "cell_type": "markdown",
   "id": "1ec26f85",
   "metadata": {},
   "source": [
    "## 연속된 따옴표 사용하기"
   ]
  },
  {
   "cell_type": "code",
   "execution_count": 43,
   "id": "713e10d9",
   "metadata": {
    "ExecuteTime": {
     "end_time": "2023-11-23T02:46:28.797268Z",
     "start_time": "2023-11-23T02:46:28.793391Z"
    }
   },
   "outputs": [
    {
     "data": {
      "text/plain": [
       "'Life is too short.\\nYou need python'"
      ]
     },
     "execution_count": 43,
     "metadata": {},
     "output_type": "execute_result"
    }
   ],
   "source": [
    "multiline = '''Life is too short.\n",
    "You need python'''\n",
    "multiline"
   ]
  },
  {
   "cell_type": "code",
   "execution_count": 44,
   "id": "c988a1cf",
   "metadata": {
    "ExecuteTime": {
     "end_time": "2023-11-23T02:46:33.869593Z",
     "start_time": "2023-11-23T02:46:33.867184Z"
    }
   },
   "outputs": [
    {
     "name": "stdout",
     "output_type": "stream",
     "text": [
      "Life is too short.\n",
      "You need python\n"
     ]
    }
   ],
   "source": [
    "print(multiline)"
   ]
  },
  {
   "cell_type": "markdown",
   "id": "cbcb2674",
   "metadata": {},
   "source": [
    "## 문자열 연산하기"
   ]
  },
  {
   "cell_type": "code",
   "execution_count": null,
   "id": "899fbadc",
   "metadata": {},
   "outputs": [],
   "source": []
  }
 ],
 "metadata": {
  "kernelspec": {
   "display_name": "Python 3 (ipykernel)",
   "language": "python",
   "name": "python3"
  },
  "language_info": {
   "codemirror_mode": {
    "name": "ipython",
    "version": 3
   },
   "file_extension": ".py",
   "mimetype": "text/x-python",
   "name": "python",
   "nbconvert_exporter": "python",
   "pygments_lexer": "ipython3",
   "version": "3.11.5"
  },
  "toc": {
   "base_numbering": 1,
   "nav_menu": {},
   "number_sections": true,
   "sideBar": true,
   "skip_h1_title": false,
   "title_cell": "Table of Contents",
   "title_sidebar": "Contents",
   "toc_cell": false,
   "toc_position": {},
   "toc_section_display": true,
   "toc_window_display": false
  }
 },
 "nbformat": 4,
 "nbformat_minor": 5
}
