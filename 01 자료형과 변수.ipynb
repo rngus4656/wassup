{
 "cells": [
  {
   "cell_type": "markdown",
   "id": "d0f8a270",
   "metadata": {},
   "source": [
    "# 숫자형\n"
   ]
  },
  {
   "cell_type": "markdown",
   "id": "684ce22c",
   "metadata": {},
   "source": [
    "정수형\n",
    "--"
   ]
  },
  {
   "cell_type": "code",
   "execution_count": 1,
   "id": "0549f327",
   "metadata": {
    "ExecuteTime": {
     "end_time": "2023-11-23T02:19:23.740476Z",
     "start_time": "2023-11-23T02:19:23.737979Z"
    }
   },
   "outputs": [],
   "source": [
    "a = 123"
   ]
  },
  {
   "cell_type": "code",
   "execution_count": 2,
   "id": "6a9e8b7a",
   "metadata": {
    "ExecuteTime": {
     "end_time": "2023-11-23T02:19:24.642026Z",
     "start_time": "2023-11-23T02:19:24.636999Z"
    }
   },
   "outputs": [
    {
     "data": {
      "text/plain": [
       "123"
      ]
     },
     "execution_count": 2,
     "metadata": {},
     "output_type": "execute_result"
    }
   ],
   "source": [
    "a"
   ]
  },
  {
   "cell_type": "code",
   "execution_count": 3,
   "id": "d626407c",
   "metadata": {
    "ExecuteTime": {
     "end_time": "2023-11-23T02:20:54.399609Z",
     "start_time": "2023-11-23T02:20:54.396785Z"
    }
   },
   "outputs": [],
   "source": [
    "a = -173"
   ]
  },
  {
   "cell_type": "code",
   "execution_count": 4,
   "id": "59429d84",
   "metadata": {
    "ExecuteTime": {
     "end_time": "2023-11-23T02:20:56.350577Z",
     "start_time": "2023-11-23T02:20:56.347069Z"
    }
   },
   "outputs": [
    {
     "data": {
      "text/plain": [
       "-173"
      ]
     },
     "execution_count": 4,
     "metadata": {},
     "output_type": "execute_result"
    }
   ],
   "source": [
    "a"
   ]
  },
  {
   "cell_type": "code",
   "execution_count": 5,
   "id": "54fcc9a7",
   "metadata": {
    "ExecuteTime": {
     "end_time": "2023-11-23T02:20:59.382310Z",
     "start_time": "2023-11-23T02:20:59.379662Z"
    }
   },
   "outputs": [],
   "source": [
    "a = 0"
   ]
  },
  {
   "cell_type": "code",
   "execution_count": 6,
   "id": "54e44ffd",
   "metadata": {
    "ExecuteTime": {
     "end_time": "2023-11-23T02:21:00.881020Z",
     "start_time": "2023-11-23T02:21:00.877506Z"
    }
   },
   "outputs": [
    {
     "data": {
      "text/plain": [
       "0"
      ]
     },
     "execution_count": 6,
     "metadata": {},
     "output_type": "execute_result"
    }
   ],
   "source": [
    "a"
   ]
  },
  {
   "cell_type": "markdown",
   "id": "802cf895",
   "metadata": {},
   "source": [
    "## 실수형"
   ]
  },
  {
   "cell_type": "code",
   "execution_count": 7,
   "id": "fd9170d3",
   "metadata": {
    "ExecuteTime": {
     "end_time": "2023-11-23T02:22:00.250997Z",
     "start_time": "2023-11-23T02:22:00.247994Z"
    }
   },
   "outputs": [],
   "source": [
    "a=1.2"
   ]
  },
  {
   "cell_type": "code",
   "execution_count": 8,
   "id": "1dec190b",
   "metadata": {
    "ExecuteTime": {
     "end_time": "2023-11-23T02:22:01.221380Z",
     "start_time": "2023-11-23T02:22:01.217870Z"
    }
   },
   "outputs": [
    {
     "data": {
      "text/plain": [
       "1.2"
      ]
     },
     "execution_count": 8,
     "metadata": {},
     "output_type": "execute_result"
    }
   ],
   "source": [
    "a"
   ]
  },
  {
   "cell_type": "code",
   "execution_count": 9,
   "id": "77113abc",
   "metadata": {
    "ExecuteTime": {
     "end_time": "2023-11-23T02:22:09.209133Z",
     "start_time": "2023-11-23T02:22:09.206644Z"
    }
   },
   "outputs": [],
   "source": [
    "a=-3.45"
   ]
  },
  {
   "cell_type": "code",
   "execution_count": 10,
   "id": "85f90f2b",
   "metadata": {
    "ExecuteTime": {
     "end_time": "2023-11-23T02:22:11.559386Z",
     "start_time": "2023-11-23T02:22:11.555751Z"
    }
   },
   "outputs": [
    {
     "data": {
      "text/plain": [
       "-3.45"
      ]
     },
     "execution_count": 10,
     "metadata": {},
     "output_type": "execute_result"
    }
   ],
   "source": [
    "a"
   ]
  },
  {
   "cell_type": "code",
   "execution_count": 13,
   "id": "995672e1",
   "metadata": {
    "ExecuteTime": {
     "end_time": "2023-11-23T02:22:40.676995Z",
     "start_time": "2023-11-23T02:22:40.673980Z"
    }
   },
   "outputs": [
    {
     "data": {
      "text/plain": [
       "42400000000.0"
      ]
     },
     "execution_count": 13,
     "metadata": {},
     "output_type": "execute_result"
    }
   ],
   "source": [
    "# 컴퓨터식 지수표현\n",
    "a = 4.24E10\n",
    "a"
   ]
  },
  {
   "cell_type": "code",
   "execution_count": 14,
   "id": "c1024c8c",
   "metadata": {
    "ExecuteTime": {
     "end_time": "2023-11-23T02:23:06.344977Z",
     "start_time": "2023-11-23T02:23:06.341606Z"
    }
   },
   "outputs": [
    {
     "data": {
      "text/plain": [
       "4.24e-10"
      ]
     },
     "execution_count": 14,
     "metadata": {},
     "output_type": "execute_result"
    }
   ],
   "source": [
    "a = 4.24E-10\n",
    "a"
   ]
  },
  {
   "cell_type": "code",
   "execution_count": 18,
   "id": "a3a043d8",
   "metadata": {
    "ExecuteTime": {
     "end_time": "2023-11-23T02:24:09.148817Z",
     "start_time": "2023-11-23T02:24:09.146108Z"
    }
   },
   "outputs": [
    {
     "data": {
      "text/plain": [
       "127"
      ]
     },
     "execution_count": 18,
     "metadata": {},
     "output_type": "execute_result"
    }
   ],
   "source": [
    "#8진수와 16진수\n",
    "a=0o177\n",
    "a"
   ]
  },
  {
   "cell_type": "code",
   "execution_count": 16,
   "id": "a37d4cb6",
   "metadata": {
    "ExecuteTime": {
     "end_time": "2023-11-23T02:23:41.653674Z",
     "start_time": "2023-11-23T02:23:41.649586Z"
    }
   },
   "outputs": [
    {
     "data": {
      "text/plain": [
       "int"
      ]
     },
     "execution_count": 16,
     "metadata": {},
     "output_type": "execute_result"
    }
   ],
   "source": [
    "type(a)"
   ]
  },
  {
   "cell_type": "code",
   "execution_count": 17,
   "id": "d06bbb83",
   "metadata": {
    "ExecuteTime": {
     "end_time": "2023-11-23T02:23:59.593295Z",
     "start_time": "2023-11-23T02:23:59.588920Z"
    }
   },
   "outputs": [
    {
     "data": {
      "text/plain": [
       "2303"
      ]
     },
     "execution_count": 17,
     "metadata": {},
     "output_type": "execute_result"
    }
   ],
   "source": [
    "a = 0x8ff\n",
    "a"
   ]
  },
  {
   "cell_type": "markdown",
   "id": "606a10d2",
   "metadata": {},
   "source": [
    "## 사칙연산"
   ]
  },
  {
   "cell_type": "code",
   "execution_count": 19,
   "id": "32f7eae0",
   "metadata": {
    "ExecuteTime": {
     "end_time": "2023-11-23T02:24:48.366125Z",
     "start_time": "2023-11-23T02:24:48.362874Z"
    }
   },
   "outputs": [
    {
     "data": {
      "text/plain": [
       "7"
      ]
     },
     "execution_count": 19,
     "metadata": {},
     "output_type": "execute_result"
    }
   ],
   "source": [
    "a = 3\n",
    "b = 4\n",
    "a+b"
   ]
  },
  {
   "cell_type": "code",
   "execution_count": 20,
   "id": "91d15879",
   "metadata": {
    "ExecuteTime": {
     "end_time": "2023-11-23T02:25:07.548486Z",
     "start_time": "2023-11-23T02:25:07.544922Z"
    }
   },
   "outputs": [
    {
     "data": {
      "text/plain": [
       "12"
      ]
     },
     "execution_count": 20,
     "metadata": {},
     "output_type": "execute_result"
    }
   ],
   "source": [
    "a*b"
   ]
  },
  {
   "cell_type": "code",
   "execution_count": 21,
   "id": "0fde5cc2",
   "metadata": {
    "ExecuteTime": {
     "end_time": "2023-11-23T02:25:09.284673Z",
     "start_time": "2023-11-23T02:25:09.280762Z"
    }
   },
   "outputs": [
    {
     "data": {
      "text/plain": [
       "0.75"
      ]
     },
     "execution_count": 21,
     "metadata": {},
     "output_type": "execute_result"
    }
   ],
   "source": [
    "a/b"
   ]
  },
  {
   "cell_type": "code",
   "execution_count": 22,
   "id": "8aa55929",
   "metadata": {
    "ExecuteTime": {
     "end_time": "2023-11-23T02:26:14.782820Z",
     "start_time": "2023-11-23T02:26:14.779946Z"
    }
   },
   "outputs": [
    {
     "data": {
      "text/plain": [
       "81"
      ]
     },
     "execution_count": 22,
     "metadata": {},
     "output_type": "execute_result"
    }
   ],
   "source": [
    "# x의 y제곱\n",
    "a ** b"
   ]
  },
  {
   "cell_type": "code",
   "execution_count": 23,
   "id": "b5134bdc",
   "metadata": {
    "ExecuteTime": {
     "end_time": "2023-11-23T02:27:18.273673Z",
     "start_time": "2023-11-23T02:27:18.270653Z"
    }
   },
   "outputs": [
    {
     "data": {
      "text/plain": [
       "1"
      ]
     },
     "execution_count": 23,
     "metadata": {},
     "output_type": "execute_result"
    }
   ],
   "source": [
    "# 나눗셈 나머지 반환\n",
    "7 % 3"
   ]
  },
  {
   "cell_type": "code",
   "execution_count": 24,
   "id": "81dc6aa6",
   "metadata": {
    "ExecuteTime": {
     "end_time": "2023-11-23T02:27:25.176000Z",
     "start_time": "2023-11-23T02:27:25.172705Z"
    }
   },
   "outputs": [
    {
     "data": {
      "text/plain": [
       "3"
      ]
     },
     "execution_count": 24,
     "metadata": {},
     "output_type": "execute_result"
    }
   ],
   "source": [
    "3 % 7"
   ]
  },
  {
   "cell_type": "code",
   "execution_count": 25,
   "id": "642b43bd",
   "metadata": {
    "ExecuteTime": {
     "end_time": "2023-11-23T02:27:43.745481Z",
     "start_time": "2023-11-23T02:27:43.741644Z"
    }
   },
   "outputs": [
    {
     "data": {
      "text/plain": [
       "1.75"
      ]
     },
     "execution_count": 25,
     "metadata": {},
     "output_type": "execute_result"
    }
   ],
   "source": [
    "# 나눗셈 몫의 반환\n",
    "7/4"
   ]
  },
  {
   "cell_type": "code",
   "execution_count": 26,
   "id": "c7d6a32a",
   "metadata": {
    "ExecuteTime": {
     "end_time": "2023-11-23T02:27:49.229547Z",
     "start_time": "2023-11-23T02:27:49.225860Z"
    }
   },
   "outputs": [
    {
     "data": {
      "text/plain": [
       "1"
      ]
     },
     "execution_count": 26,
     "metadata": {},
     "output_type": "execute_result"
    }
   ],
   "source": [
    "7//4"
   ]
  },
  {
   "cell_type": "code",
   "execution_count": 27,
   "id": "5cae4126",
   "metadata": {
    "ExecuteTime": {
     "end_time": "2023-11-23T02:28:02.453108Z",
     "start_time": "2023-11-23T02:28:02.449147Z"
    }
   },
   "outputs": [
    {
     "data": {
      "text/plain": [
       "3"
      ]
     },
     "execution_count": 27,
     "metadata": {},
     "output_type": "execute_result"
    }
   ],
   "source": [
    "7%4"
   ]
  },
  {
   "cell_type": "markdown",
   "id": "347cccc1",
   "metadata": {},
   "source": [
    "# 문자열"
   ]
  },
  {
   "cell_type": "code",
   "execution_count": 28,
   "id": "9a605fdd",
   "metadata": {
    "ExecuteTime": {
     "end_time": "2023-11-23T02:32:50.946674Z",
     "start_time": "2023-11-23T02:32:50.943645Z"
    }
   },
   "outputs": [
    {
     "data": {
      "text/plain": [
       "'Hello World'"
      ]
     },
     "execution_count": 28,
     "metadata": {},
     "output_type": "execute_result"
    }
   ],
   "source": [
    "\"Hello World\""
   ]
  },
  {
   "cell_type": "code",
   "execution_count": 29,
   "id": "e89fbf82",
   "metadata": {
    "ExecuteTime": {
     "end_time": "2023-11-23T02:32:55.550650Z",
     "start_time": "2023-11-23T02:32:55.547012Z"
    }
   },
   "outputs": [
    {
     "data": {
      "text/plain": [
       "'Hello World'"
      ]
     },
     "execution_count": 29,
     "metadata": {},
     "output_type": "execute_result"
    }
   ],
   "source": [
    "'Hello World'"
   ]
  },
  {
   "cell_type": "code",
   "execution_count": 33,
   "id": "0accb5bc",
   "metadata": {
    "ExecuteTime": {
     "end_time": "2023-11-23T02:34:10.448968Z",
     "start_time": "2023-11-23T02:34:10.444965Z"
    }
   },
   "outputs": [
    {
     "data": {
      "text/plain": [
       "'Life is short. You need python'"
      ]
     },
     "execution_count": 33,
     "metadata": {},
     "output_type": "execute_result"
    }
   ],
   "source": [
    "\"\"\"Life is short. You need python\"\"\""
   ]
  },
  {
   "cell_type": "code",
   "execution_count": 34,
   "id": "b06b7346",
   "metadata": {
    "ExecuteTime": {
     "end_time": "2023-11-23T02:35:10.504833Z",
     "start_time": "2023-11-23T02:35:10.501444Z"
    }
   },
   "outputs": [
    {
     "data": {
      "text/plain": [
       "\"Python's favorite food is peal\""
      ]
     },
     "execution_count": 34,
     "metadata": {},
     "output_type": "execute_result"
    }
   ],
   "source": [
    "\"Python's favorite food is peal\""
   ]
  },
  {
   "cell_type": "code",
   "execution_count": 35,
   "id": "49e97615",
   "metadata": {
    "ExecuteTime": {
     "end_time": "2023-11-23T02:36:50.821256Z",
     "start_time": "2023-11-23T02:36:50.817255Z"
    }
   },
   "outputs": [
    {
     "data": {
      "text/plain": [
       "\"Python's favorite food is peal\""
      ]
     },
     "execution_count": 35,
     "metadata": {},
     "output_type": "execute_result"
    }
   ],
   "source": [
    "food = \"Python's favorite food is peal\"\n",
    "food"
   ]
  },
  {
   "cell_type": "code",
   "execution_count": 37,
   "id": "2e1e94a4",
   "metadata": {
    "ExecuteTime": {
     "end_time": "2023-11-23T02:38:14.626672Z",
     "start_time": "2023-11-23T02:38:14.622571Z"
    }
   },
   "outputs": [
    {
     "data": {
      "text/plain": [
       "'\"Python is very easy.\" he says.'"
      ]
     },
     "execution_count": 37,
     "metadata": {},
     "output_type": "execute_result"
    }
   ],
   "source": [
    "'\"Python is very easy.\" he says.'"
   ]
  },
  {
   "cell_type": "code",
   "execution_count": 40,
   "id": "d13d68ba",
   "metadata": {
    "ExecuteTime": {
     "end_time": "2023-11-23T02:41:20.661653Z",
     "start_time": "2023-11-23T02:41:20.658031Z"
    }
   },
   "outputs": [
    {
     "data": {
      "text/plain": [
       "(\"Python's favorite food is peal\", '\"Python is very easy.\" he says.')"
      ]
     },
     "execution_count": 40,
     "metadata": {},
     "output_type": "execute_result"
    }
   ],
   "source": [
    "# 백슬래시를 통해 따옴표를 문자열에 포함\n",
    "food = 'Python\\'s favorite food is peal'\n",
    "say = '\\\"Python is very easy.\\\" he says.'\n",
    "food, say"
   ]
  },
  {
   "cell_type": "markdown",
   "id": "b167a318",
   "metadata": {},
   "source": [
    "### 여러줄인 문자열을 변수에 대입하고 싶을때"
   ]
  },
  {
   "cell_type": "code",
   "execution_count": 41,
   "id": "235a86ba",
   "metadata": {
    "ExecuteTime": {
     "end_time": "2023-11-23T02:43:36.401226Z",
     "start_time": "2023-11-23T02:43:36.398296Z"
    }
   },
   "outputs": [
    {
     "data": {
      "text/plain": [
       "'Life is short. \\nYou need python'"
      ]
     },
     "execution_count": 41,
     "metadata": {},
     "output_type": "execute_result"
    }
   ],
   "source": [
    "#줄을 바꾸는 이스케이프코드 \\n\n",
    "multiline = \"\"\"Life is short. \\nYou need python\"\"\"\n",
    "multiline"
   ]
  },
  {
   "cell_type": "code",
   "execution_count": 42,
   "id": "3d5fbc37",
   "metadata": {
    "ExecuteTime": {
     "end_time": "2023-11-23T02:43:45.316163Z",
     "start_time": "2023-11-23T02:43:45.313481Z"
    }
   },
   "outputs": [
    {
     "name": "stdout",
     "output_type": "stream",
     "text": [
      "Life is short. \n",
      "You need python\n"
     ]
    }
   ],
   "source": [
    "print(multiline)"
   ]
  },
  {
   "cell_type": "markdown",
   "id": "1ec26f85",
   "metadata": {},
   "source": [
    "## 연속된 따옴표 사용하기"
   ]
  },
  {
   "cell_type": "code",
   "execution_count": 43,
   "id": "713e10d9",
   "metadata": {
    "ExecuteTime": {
     "end_time": "2023-11-23T02:46:28.797268Z",
     "start_time": "2023-11-23T02:46:28.793391Z"
    }
   },
   "outputs": [
    {
     "data": {
      "text/plain": [
       "'Life is too short.\\nYou need python'"
      ]
     },
     "execution_count": 43,
     "metadata": {},
     "output_type": "execute_result"
    }
   ],
   "source": [
    "multiline = '''Life is too short.\n",
    "You need python'''\n",
    "multiline"
   ]
  },
  {
   "cell_type": "code",
   "execution_count": 44,
   "id": "c988a1cf",
   "metadata": {
    "ExecuteTime": {
     "end_time": "2023-11-23T02:46:33.869593Z",
     "start_time": "2023-11-23T02:46:33.867184Z"
    }
   },
   "outputs": [
    {
     "name": "stdout",
     "output_type": "stream",
     "text": [
      "Life is too short.\n",
      "You need python\n"
     ]
    }
   ],
   "source": [
    "print(multiline)"
   ]
  },
  {
   "cell_type": "markdown",
   "id": "cbcb2674",
   "metadata": {},
   "source": [
    "# 문자열 연산하기"
   ]
  },
  {
   "cell_type": "code",
   "execution_count": 2,
   "id": "899fbadc",
   "metadata": {
    "ExecuteTime": {
     "end_time": "2023-11-24T00:35:53.855829Z",
     "start_time": "2023-11-24T00:35:53.852379Z"
    }
   },
   "outputs": [
    {
     "data": {
      "text/plain": [
       "'Python is fun'"
      ]
     },
     "execution_count": 2,
     "metadata": {},
     "output_type": "execute_result"
    }
   ],
   "source": [
    "head='Python'\n",
    "tail=' is fun'\n",
    "head + tail"
   ]
  },
  {
   "cell_type": "code",
   "execution_count": 4,
   "id": "a468b8e4",
   "metadata": {
    "ExecuteTime": {
     "end_time": "2023-11-24T00:36:29.475127Z",
     "start_time": "2023-11-24T00:36:29.471282Z"
    }
   },
   "outputs": [
    {
     "data": {
      "text/plain": [
       "'PythonPython'"
      ]
     },
     "execution_count": 4,
     "metadata": {},
     "output_type": "execute_result"
    }
   ],
   "source": [
    "a = 'Python'\n",
    "a * 2"
   ]
  },
  {
   "cell_type": "code",
   "execution_count": 6,
   "id": "1a43432f",
   "metadata": {
    "ExecuteTime": {
     "end_time": "2023-11-24T00:37:19.232810Z",
     "start_time": "2023-11-24T00:37:19.229972Z"
    }
   },
   "outputs": [
    {
     "name": "stdout",
     "output_type": "stream",
     "text": [
      "==================================================\n",
      "My program\n",
      "==================================================\n"
     ]
    }
   ],
   "source": [
    "print('=' *50)\n",
    "print('My program')\n",
    "print('=' *50)"
   ]
  },
  {
   "cell_type": "code",
   "execution_count": 7,
   "id": "89af7f2e",
   "metadata": {
    "ExecuteTime": {
     "end_time": "2023-11-24T00:37:43.742787Z",
     "start_time": "2023-11-24T00:37:43.739214Z"
    }
   },
   "outputs": [
    {
     "data": {
      "text/plain": [
       "17"
      ]
     },
     "execution_count": 7,
     "metadata": {},
     "output_type": "execute_result"
    }
   ],
   "source": [
    "a = 'Life is too short'\n",
    "len(a)"
   ]
  },
  {
   "cell_type": "code",
   "execution_count": 9,
   "id": "d900259c",
   "metadata": {
    "ExecuteTime": {
     "end_time": "2023-11-24T00:38:56.140358Z",
     "start_time": "2023-11-24T00:38:56.137274Z"
    }
   },
   "outputs": [
    {
     "name": "stdout",
     "output_type": "stream",
     "text": [
      "e\n",
      "L\n",
      "s\n"
     ]
    }
   ],
   "source": [
    "print(a[3])\n",
    "print(a[0])\n",
    "print(a[12])\n",
    "print(a[-1])\n",
    "print(a[-0])"
   ]
  },
  {
   "cell_type": "markdown",
   "id": "1932ee47",
   "metadata": {},
   "source": [
    "## 슬라이싱"
   ]
  },
  {
   "cell_type": "code",
   "execution_count": 13,
   "id": "6817a767",
   "metadata": {
    "ExecuteTime": {
     "end_time": "2023-11-24T00:42:22.066776Z",
     "start_time": "2023-11-24T00:42:22.063186Z"
    }
   },
   "outputs": [
    {
     "data": {
      "text/plain": [
       "'Life is too short. You need python'"
      ]
     },
     "execution_count": 13,
     "metadata": {},
     "output_type": "execute_result"
    }
   ],
   "source": [
    "a = 'Life is too short. You need python'\n",
    "a"
   ]
  },
  {
   "cell_type": "code",
   "execution_count": 11,
   "id": "f8d9f8f4",
   "metadata": {
    "ExecuteTime": {
     "end_time": "2023-11-24T00:41:52.543996Z",
     "start_time": "2023-11-24T00:41:52.540459Z"
    }
   },
   "outputs": [
    {
     "data": {
      "text/plain": [
       "'Life'"
      ]
     },
     "execution_count": 11,
     "metadata": {},
     "output_type": "execute_result"
    }
   ],
   "source": [
    "b = a[0] +a[1] +a[2] +a[3]\n",
    "b"
   ]
  },
  {
   "cell_type": "code",
   "execution_count": 12,
   "id": "54f55f88",
   "metadata": {
    "ExecuteTime": {
     "end_time": "2023-11-24T00:41:59.322486Z",
     "start_time": "2023-11-24T00:41:59.318978Z"
    }
   },
   "outputs": [
    {
     "data": {
      "text/plain": [
       "'Life'"
      ]
     },
     "execution_count": 12,
     "metadata": {},
     "output_type": "execute_result"
    }
   ],
   "source": [
    "a[0:4]"
   ]
  },
  {
   "cell_type": "code",
   "execution_count": 14,
   "id": "bfb11c2b",
   "metadata": {
    "ExecuteTime": {
     "end_time": "2023-11-24T00:42:34.636667Z",
     "start_time": "2023-11-24T00:42:34.633217Z"
    }
   },
   "outputs": [
    {
     "data": {
      "text/plain": [
       "'Life'"
      ]
     },
     "execution_count": 14,
     "metadata": {},
     "output_type": "execute_result"
    }
   ],
   "source": [
    "a[:4]"
   ]
  },
  {
   "cell_type": "code",
   "execution_count": 15,
   "id": "8023d51f",
   "metadata": {
    "ExecuteTime": {
     "end_time": "2023-11-24T00:44:07.530461Z",
     "start_time": "2023-11-24T00:44:07.527572Z"
    }
   },
   "outputs": [
    {
     "name": "stdout",
     "output_type": "stream",
     "text": [
      "Life \n",
      "is\n",
      "\n",
      "You need python\n"
     ]
    }
   ],
   "source": [
    "print(a[:5])\n",
    "print(a[5:7])\n",
    "print(a[12:7])\n",
    "print(a[19:])"
   ]
  },
  {
   "cell_type": "code",
   "execution_count": 16,
   "id": "86cd2fb0",
   "metadata": {
    "ExecuteTime": {
     "end_time": "2023-11-24T00:44:15.097798Z",
     "start_time": "2023-11-24T00:44:15.094525Z"
    }
   },
   "outputs": [
    {
     "data": {
      "text/plain": [
       "'Life is too short. You need python'"
      ]
     },
     "execution_count": 16,
     "metadata": {},
     "output_type": "execute_result"
    }
   ],
   "source": [
    "a[:]"
   ]
  },
  {
   "cell_type": "code",
   "execution_count": 17,
   "id": "34dd5f91",
   "metadata": {
    "ExecuteTime": {
     "end_time": "2023-11-24T00:44:35.805275Z",
     "start_time": "2023-11-24T00:44:35.801699Z"
    }
   },
   "outputs": [
    {
     "data": {
      "text/plain": [
       "'You need'"
      ]
     },
     "execution_count": 17,
     "metadata": {},
     "output_type": "execute_result"
    }
   ],
   "source": [
    "a[19:-7]"
   ]
  },
  {
   "cell_type": "markdown",
   "id": "d215d611",
   "metadata": {},
   "source": [
    "## 슬라이싱으로 문자열 나누기"
   ]
  },
  {
   "cell_type": "code",
   "execution_count": 18,
   "id": "853012c4",
   "metadata": {
    "ExecuteTime": {
     "end_time": "2023-11-24T00:47:38.308836Z",
     "start_time": "2023-11-24T00:47:38.304515Z"
    }
   },
   "outputs": [
    {
     "name": "stdout",
     "output_type": "stream",
     "text": [
      "20231124\n",
      "Sunny\n"
     ]
    }
   ],
   "source": [
    "a = '20231124Sunny'\n",
    "date = a[:8]\n",
    "weather = a[8:]\n",
    "print(date)\n",
    "print(weather)"
   ]
  },
  {
   "cell_type": "code",
   "execution_count": 19,
   "id": "ce4fab39",
   "metadata": {
    "ExecuteTime": {
     "end_time": "2023-11-24T00:49:46.687789Z",
     "start_time": "2023-11-24T00:49:46.685070Z"
    }
   },
   "outputs": [
    {
     "name": "stdout",
     "output_type": "stream",
     "text": [
      "2023\n",
      "1124\n",
      "Sunny\n"
     ]
    }
   ],
   "source": [
    "year = a[:4]\n",
    "day = a[4:8]\n",
    "print(year)\n",
    "print(day)\n",
    "print(weather)"
   ]
  },
  {
   "cell_type": "markdown",
   "id": "ae626d19",
   "metadata": {},
   "source": [
    "## 문자열 요소 바꾸기"
   ]
  },
  {
   "cell_type": "code",
   "execution_count": 24,
   "id": "92935104",
   "metadata": {
    "ExecuteTime": {
     "end_time": "2023-11-24T01:05:26.818420Z",
     "start_time": "2023-11-24T01:05:26.815038Z"
    }
   },
   "outputs": [
    {
     "data": {
      "text/plain": [
       "'i'"
      ]
     },
     "execution_count": 24,
     "metadata": {},
     "output_type": "execute_result"
    }
   ],
   "source": [
    "a = 'pithon'\n",
    "a[1]"
   ]
  },
  {
   "cell_type": "code",
   "execution_count": 21,
   "id": "5fe1af4c",
   "metadata": {
    "ExecuteTime": {
     "end_time": "2023-11-24T01:01:38.020031Z",
     "start_time": "2023-11-24T01:01:38.008002Z"
    }
   },
   "outputs": [
    {
     "ename": "TypeError",
     "evalue": "'str' object does not support item assignment",
     "output_type": "error",
     "traceback": [
      "\u001b[1;31m---------------------------------------------------------------------------\u001b[0m",
      "\u001b[1;31mTypeError\u001b[0m                                 Traceback (most recent call last)",
      "Cell \u001b[1;32mIn[21], line 1\u001b[0m\n\u001b[1;32m----> 1\u001b[0m a[\u001b[38;5;241m1\u001b[39m] \u001b[38;5;241m=\u001b[39m \u001b[38;5;124m'\u001b[39m\u001b[38;5;124my\u001b[39m\u001b[38;5;124m'\u001b[39m\n",
      "\u001b[1;31mTypeError\u001b[0m: 'str' object does not support item assignment"
     ]
    }
   ],
   "source": [
    "a[1] = 'y'"
   ]
  },
  {
   "cell_type": "code",
   "execution_count": 25,
   "id": "8a6763d4",
   "metadata": {
    "ExecuteTime": {
     "end_time": "2023-11-24T01:05:32.164629Z",
     "start_time": "2023-11-24T01:05:32.161627Z"
    }
   },
   "outputs": [
    {
     "data": {
      "text/plain": [
       "'python'"
      ]
     },
     "execution_count": 25,
     "metadata": {},
     "output_type": "execute_result"
    }
   ],
   "source": [
    "a[0] + 'y' + a[2:]"
   ]
  },
  {
   "cell_type": "markdown",
   "id": "0c75544c",
   "metadata": {},
   "source": [
    "## 문자열 포매팅\n",
    "* 현재 온도는 20도 입니다\n",
    "* 현재 온도는 -3도 입니다"
   ]
  },
  {
   "cell_type": "code",
   "execution_count": 26,
   "id": "bb52804b",
   "metadata": {
    "ExecuteTime": {
     "end_time": "2023-11-24T01:08:59.137325Z",
     "start_time": "2023-11-24T01:08:59.133835Z"
    }
   },
   "outputs": [
    {
     "data": {
      "text/plain": [
       "'I eat 3 apples'"
      ]
     },
     "execution_count": 26,
     "metadata": {},
     "output_type": "execute_result"
    }
   ],
   "source": [
    "# 숫자 바로 대입하기\n",
    "'I eat %d apples'%3"
   ]
  },
  {
   "cell_type": "code",
   "execution_count": 27,
   "id": "992dd94d",
   "metadata": {
    "ExecuteTime": {
     "end_time": "2023-11-24T01:10:04.187893Z",
     "start_time": "2023-11-24T01:10:04.184178Z"
    }
   },
   "outputs": [
    {
     "data": {
      "text/plain": [
       "'I eat five apples'"
      ]
     },
     "execution_count": 27,
     "metadata": {},
     "output_type": "execute_result"
    }
   ],
   "source": [
    "# 문자열 대입하기\n",
    "'I eat %s apples'%'five'"
   ]
  },
  {
   "cell_type": "code",
   "execution_count": 28,
   "id": "3c09043e",
   "metadata": {
    "ExecuteTime": {
     "end_time": "2023-11-24T01:10:31.644910Z",
     "start_time": "2023-11-24T01:10:31.641405Z"
    }
   },
   "outputs": [
    {
     "data": {
      "text/plain": [
       "'I eat 3 apples'"
      ]
     },
     "execution_count": 28,
     "metadata": {},
     "output_type": "execute_result"
    }
   ],
   "source": [
    "# 변수로 대입하기\n",
    "number = 3\n",
    "'I eat %s apples'%number"
   ]
  },
  {
   "cell_type": "code",
   "execution_count": 31,
   "id": "8b5052a8",
   "metadata": {
    "ExecuteTime": {
     "end_time": "2023-11-24T01:12:18.392163Z",
     "start_time": "2023-11-24T01:12:18.388345Z"
    }
   },
   "outputs": [
    {
     "data": {
      "text/plain": [
       "'I eat 3 apples. so i was sick for three days'"
      ]
     },
     "execution_count": 31,
     "metadata": {},
     "output_type": "execute_result"
    }
   ],
   "source": [
    "number = 3\n",
    "day = 'three'\n",
    "'I eat %d apples. so i was sick for %s days'%(number, day)"
   ]
  },
  {
   "cell_type": "markdown",
   "id": "2ece41ca",
   "metadata": {},
   "source": [
    "## 정렬과 공백\n",
    "* 양수 : 우정렬\n",
    "* 음수 : 좌정렬"
   ]
  },
  {
   "cell_type": "code",
   "execution_count": 34,
   "id": "f67154f5",
   "metadata": {
    "ExecuteTime": {
     "end_time": "2023-11-24T01:14:27.643924Z",
     "start_time": "2023-11-24T01:14:27.640907Z"
    }
   },
   "outputs": [
    {
     "name": "stdout",
     "output_type": "stream",
     "text": [
      "        hi\n",
      "hi        \n"
     ]
    }
   ],
   "source": [
    "# 10개의 문자열 공간을 만들되, 치환되는 문자열을 우측정렬하고 빈곳은 공백으로 채울것\n",
    "print('%10s'%'hi')\n",
    "print('%-10s'%'hi')"
   ]
  },
  {
   "cell_type": "markdown",
   "id": "b6d71de2",
   "metadata": {},
   "source": [
    "## 소수점 표현하기"
   ]
  },
  {
   "cell_type": "code",
   "execution_count": 35,
   "id": "b3acbcb5",
   "metadata": {
    "ExecuteTime": {
     "end_time": "2023-11-24T01:14:55.309925Z",
     "start_time": "2023-11-24T01:14:55.306422Z"
    }
   },
   "outputs": [
    {
     "data": {
      "text/plain": [
       "'3.4213'"
      ]
     },
     "execution_count": 35,
     "metadata": {},
     "output_type": "execute_result"
    }
   ],
   "source": [
    "'%0.4f'%3.42134234"
   ]
  },
  {
   "cell_type": "markdown",
   "id": "34aca5d5",
   "metadata": {},
   "source": [
    "## 포맷함수를 사용한 포매팅"
   ]
  },
  {
   "cell_type": "code",
   "execution_count": 36,
   "id": "289d3a37",
   "metadata": {
    "ExecuteTime": {
     "end_time": "2023-11-24T01:17:09.567593Z",
     "start_time": "2023-11-24T01:17:09.564535Z"
    }
   },
   "outputs": [
    {
     "data": {
      "text/plain": [
       "str"
      ]
     },
     "execution_count": 36,
     "metadata": {},
     "output_type": "execute_result"
    }
   ],
   "source": [
    "type('I eat {} apples')"
   ]
  },
  {
   "cell_type": "code",
   "execution_count": 38,
   "id": "75c9da88",
   "metadata": {
    "ExecuteTime": {
     "end_time": "2023-11-24T01:17:39.459195Z",
     "start_time": "2023-11-24T01:17:39.455245Z"
    }
   },
   "outputs": [
    {
     "data": {
      "text/plain": [
       "'I eat 3 apples'"
      ]
     },
     "execution_count": 38,
     "metadata": {},
     "output_type": "execute_result"
    }
   ],
   "source": [
    "\"I eat {} apples\".format(3)"
   ]
  },
  {
   "cell_type": "code",
   "execution_count": 40,
   "id": "b02a338d",
   "metadata": {
    "ExecuteTime": {
     "end_time": "2023-11-24T01:18:05.837142Z",
     "start_time": "2023-11-24T01:18:05.833641Z"
    }
   },
   "outputs": [
    {
     "data": {
      "text/plain": [
       "'I eat five apples'"
      ]
     },
     "execution_count": 40,
     "metadata": {},
     "output_type": "execute_result"
    }
   ],
   "source": [
    "\"I eat {} apples\".format('five')"
   ]
  },
  {
   "cell_type": "code",
   "execution_count": 41,
   "id": "5e50f97a",
   "metadata": {
    "ExecuteTime": {
     "end_time": "2023-11-24T01:18:17.657082Z",
     "start_time": "2023-11-24T01:18:17.653059Z"
    }
   },
   "outputs": [
    {
     "data": {
      "text/plain": [
       "'I eat 3 apples'"
      ]
     },
     "execution_count": 41,
     "metadata": {},
     "output_type": "execute_result"
    }
   ],
   "source": [
    "number =3\n",
    "\"I eat {} apples\".format(number)"
   ]
  },
  {
   "cell_type": "code",
   "execution_count": 42,
   "id": "9da406d7",
   "metadata": {
    "ExecuteTime": {
     "end_time": "2023-11-24T01:19:04.904191Z",
     "start_time": "2023-11-24T01:19:04.900810Z"
    }
   },
   "outputs": [
    {
     "data": {
      "text/plain": [
       "'I eat 3 aples. so i was sick for three days'"
      ]
     },
     "execution_count": 42,
     "metadata": {},
     "output_type": "execute_result"
    }
   ],
   "source": [
    "#2개 이상 넣기\n",
    "number = 3\n",
    "day = 'three'\n",
    "'I eat {} aples. so i was sick for {} days'.format(number, day)"
   ]
  },
  {
   "cell_type": "code",
   "execution_count": 43,
   "id": "af221465",
   "metadata": {
    "ExecuteTime": {
     "end_time": "2023-11-24T01:20:02.418792Z",
     "start_time": "2023-11-24T01:20:02.415039Z"
    }
   },
   "outputs": [
    {
     "data": {
      "text/plain": [
       "'I eat 10 aples. so i was sick for 3 days'"
      ]
     },
     "execution_count": 43,
     "metadata": {},
     "output_type": "execute_result"
    }
   ],
   "source": [
    "# 변수 이름으로 넣기\n",
    "'I eat {number} aples. so i was sick for {day} days'.format(number=10, day=3)"
   ]
  },
  {
   "cell_type": "code",
   "execution_count": 44,
   "id": "224a0ecc",
   "metadata": {
    "ExecuteTime": {
     "end_time": "2023-11-24T01:20:27.984544Z",
     "start_time": "2023-11-24T01:20:27.981286Z"
    }
   },
   "outputs": [
    {
     "data": {
      "text/plain": [
       "'I eat 10 aples. so i was sick for 3 days'"
      ]
     },
     "execution_count": 44,
     "metadata": {},
     "output_type": "execute_result"
    }
   ],
   "source": [
    "'I eat {number} aples. so i was sick for {day} days'.format(day=3, number=10)"
   ]
  },
  {
   "cell_type": "code",
   "execution_count": 45,
   "id": "53ac639e",
   "metadata": {
    "ExecuteTime": {
     "end_time": "2023-11-24T01:21:31.854622Z",
     "start_time": "2023-11-24T01:21:31.850887Z"
    }
   },
   "outputs": [
    {
     "data": {
      "text/plain": [
       "'I eat 10 aples. so i was sick for 3 days'"
      ]
     },
     "execution_count": 45,
     "metadata": {},
     "output_type": "execute_result"
    }
   ],
   "source": [
    "'I eat {number} aples. so i was sick for {} days'.format(3, number=10)"
   ]
  },
  {
   "cell_type": "markdown",
   "id": "2e162291",
   "metadata": {},
   "source": [
    "## f문자열 포매팅"
   ]
  },
  {
   "cell_type": "code",
   "execution_count": 48,
   "id": "4305568d",
   "metadata": {
    "ExecuteTime": {
     "end_time": "2023-11-24T01:23:21.619801Z",
     "start_time": "2023-11-24T01:23:21.615050Z"
    }
   },
   "outputs": [
    {
     "data": {
      "text/plain": [
       "'나의 이름 홍길동입니다. 나이는 30입니다.'"
      ]
     },
     "execution_count": 48,
     "metadata": {},
     "output_type": "execute_result"
    }
   ],
   "source": [
    "# python 3.6 이상\n",
    "name = '홍길동'\n",
    "age = 30\n",
    "f'나의 이름 {name}입니다. 나이는 {age}입니다.'"
   ]
  },
  {
   "cell_type": "code",
   "execution_count": 49,
   "id": "18244606",
   "metadata": {
    "ExecuteTime": {
     "end_time": "2023-11-24T01:24:02.565883Z",
     "start_time": "2023-11-24T01:24:02.562044Z"
    }
   },
   "outputs": [
    {
     "data": {
      "text/plain": [
       "'나는 내년이면 31살이 됩니다.'"
      ]
     },
     "execution_count": 49,
     "metadata": {},
     "output_type": "execute_result"
    }
   ],
   "source": [
    "f'나는 내년이면 {age+1}살이 됩니다.'"
   ]
  },
  {
   "cell_type": "code",
   "execution_count": 54,
   "id": "1e11c56a",
   "metadata": {
    "ExecuteTime": {
     "end_time": "2023-11-24T01:28:17.478257Z",
     "start_time": "2023-11-24T01:28:17.473754Z"
    }
   },
   "outputs": [
    {
     "data": {
      "text/plain": [
       "'나의 이름은 홍길동입니다. 나이는 30입니다.'"
      ]
     },
     "execution_count": 54,
     "metadata": {},
     "output_type": "execute_result"
    }
   ],
   "source": [
    "d = {'name':'홍길동', 'age':30}\n",
    "f'나의 이름은 {d[\"name\"]}입니다. 나이는 {d[\"age\"]}입니다.'"
   ]
  },
  {
   "cell_type": "code",
   "execution_count": 56,
   "id": "233c8d94",
   "metadata": {
    "ExecuteTime": {
     "end_time": "2023-11-24T01:29:36.464854Z",
     "start_time": "2023-11-24T01:29:36.461822Z"
    }
   },
   "outputs": [
    {
     "data": {
      "text/plain": [
       "'3.4123'"
      ]
     },
     "execution_count": 56,
     "metadata": {},
     "output_type": "execute_result"
    }
   ],
   "source": [
    "y = 3.4123123\n",
    "f'{y:0.4f}'"
   ]
  },
  {
   "cell_type": "markdown",
   "id": "63d45e1c",
   "metadata": {},
   "source": [
    "## 문자열 관련 함수"
   ]
  },
  {
   "cell_type": "code",
   "execution_count": 57,
   "id": "134f186f",
   "metadata": {
    "ExecuteTime": {
     "end_time": "2023-11-24T01:30:25.731678Z",
     "start_time": "2023-11-24T01:30:25.729318Z"
    }
   },
   "outputs": [],
   "source": [
    "a = 'hobby'"
   ]
  },
  {
   "cell_type": "code",
   "execution_count": 58,
   "id": "f0cb3307",
   "metadata": {
    "ExecuteTime": {
     "end_time": "2023-11-24T01:30:33.470861Z",
     "start_time": "2023-11-24T01:30:33.467464Z"
    }
   },
   "outputs": [
    {
     "data": {
      "text/plain": [
       "2"
      ]
     },
     "execution_count": 58,
     "metadata": {},
     "output_type": "execute_result"
    }
   ],
   "source": [
    "a.count('b')"
   ]
  },
  {
   "cell_type": "code",
   "execution_count": 59,
   "id": "c69bf3ff",
   "metadata": {
    "ExecuteTime": {
     "end_time": "2023-11-24T01:32:18.587964Z",
     "start_time": "2023-11-24T01:32:18.584742Z"
    }
   },
   "outputs": [],
   "source": [
    "a.count?"
   ]
  },
  {
   "cell_type": "code",
   "execution_count": 60,
   "id": "59431d42",
   "metadata": {
    "ExecuteTime": {
     "end_time": "2023-11-24T01:32:54.736445Z",
     "start_time": "2023-11-24T01:32:54.733270Z"
    }
   },
   "outputs": [
    {
     "name": "stdout",
     "output_type": "stream",
     "text": [
      "Help on built-in function count:\n",
      "\n",
      "count(...) method of builtins.str instance\n",
      "    S.count(sub[, start[, end]]) -> int\n",
      "    \n",
      "    Return the number of non-overlapping occurrences of substring sub in\n",
      "    string S[start:end].  Optional arguments start and end are\n",
      "    interpreted as in slice notation.\n",
      "\n"
     ]
    }
   ],
   "source": [
    "help(a.count)"
   ]
  },
  {
   "cell_type": "code",
   "execution_count": 61,
   "id": "c1b58636",
   "metadata": {
    "ExecuteTime": {
     "end_time": "2023-11-24T01:35:31.219391Z",
     "start_time": "2023-11-24T01:35:31.215182Z"
    }
   },
   "outputs": [
    {
     "data": {
      "text/plain": [
       "14"
      ]
     },
     "execution_count": 61,
     "metadata": {},
     "output_type": "execute_result"
    }
   ],
   "source": [
    "a = 'python is the best choice'\n",
    "a.find('b')"
   ]
  },
  {
   "cell_type": "code",
   "execution_count": 65,
   "id": "7e14ad9b",
   "metadata": {
    "ExecuteTime": {
     "end_time": "2023-11-24T01:36:12.970291Z",
     "start_time": "2023-11-24T01:36:12.966462Z"
    }
   },
   "outputs": [
    {
     "data": {
      "text/plain": [
       "-1"
      ]
     },
     "execution_count": 65,
     "metadata": {},
     "output_type": "execute_result"
    }
   ],
   "source": [
    "a.find('k') # false = 0"
   ]
  },
  {
   "cell_type": "code",
   "execution_count": 69,
   "id": "52fa6023",
   "metadata": {
    "ExecuteTime": {
     "end_time": "2023-11-24T01:36:56.439094Z",
     "start_time": "2023-11-24T01:36:56.435128Z"
    }
   },
   "outputs": [
    {
     "data": {
      "text/plain": [
       "2"
      ]
     },
     "execution_count": 69,
     "metadata": {},
     "output_type": "execute_result"
    }
   ],
   "source": [
    "a.index('t')"
   ]
  },
  {
   "cell_type": "markdown",
   "id": "46e01ae1",
   "metadata": {},
   "source": [
    "## 문자열 삽입 (join)"
   ]
  },
  {
   "cell_type": "code",
   "execution_count": 72,
   "id": "bc636693",
   "metadata": {
    "ExecuteTime": {
     "end_time": "2023-11-24T01:39:53.492843Z",
     "start_time": "2023-11-24T01:39:53.489237Z"
    }
   },
   "outputs": [
    {
     "data": {
      "text/plain": [
       "'a,b,c,d'"
      ]
     },
     "execution_count": 72,
     "metadata": {},
     "output_type": "execute_result"
    }
   ],
   "source": [
    "# a, b, c ,d 문자열 사이에 , 를 삽입\n",
    "','.join('abcd')"
   ]
  },
  {
   "cell_type": "code",
   "execution_count": 73,
   "id": "516a42e5",
   "metadata": {
    "ExecuteTime": {
     "end_time": "2023-11-24T01:40:14.599635Z",
     "start_time": "2023-11-24T01:40:14.596027Z"
    }
   },
   "outputs": [
    {
     "data": {
      "text/plain": [
       "'a,b,c,d'"
      ]
     },
     "execution_count": 73,
     "metadata": {},
     "output_type": "execute_result"
    }
   ],
   "source": [
    "a = ','\n",
    "a.join('abcd')"
   ]
  },
  {
   "cell_type": "code",
   "execution_count": 74,
   "id": "6fdb3481",
   "metadata": {
    "ExecuteTime": {
     "end_time": "2023-11-24T01:40:20.068655Z",
     "start_time": "2023-11-24T01:40:20.065222Z"
    },
    "scrolled": true
   },
   "outputs": [
    {
     "data": {
      "text/plain": [
       "'a,b,c,d'"
      ]
     },
     "execution_count": 74,
     "metadata": {},
     "output_type": "execute_result"
    }
   ],
   "source": [
    "','.join(['a','b','c','d'])"
   ]
  },
  {
   "cell_type": "markdown",
   "id": "24ab43bd",
   "metadata": {
    "ExecuteTime": {
     "end_time": "2023-11-24T01:40:30.343771Z",
     "start_time": "2023-11-24T01:40:30.341848Z"
    }
   },
   "source": [
    "## 대소문자 변환 (upper, lower)"
   ]
  },
  {
   "cell_type": "code",
   "execution_count": 76,
   "id": "6dd7f729",
   "metadata": {
    "ExecuteTime": {
     "end_time": "2023-11-24T01:40:47.449952Z",
     "start_time": "2023-11-24T01:40:47.446544Z"
    }
   },
   "outputs": [
    {
     "data": {
      "text/plain": [
       "'HI'"
      ]
     },
     "execution_count": 76,
     "metadata": {},
     "output_type": "execute_result"
    }
   ],
   "source": [
    "#소문자를 대문자로 바꾸기\n",
    "a = 'hi'\n",
    "a.upper()"
   ]
  },
  {
   "cell_type": "code",
   "execution_count": 78,
   "id": "0d2ce15b",
   "metadata": {
    "ExecuteTime": {
     "end_time": "2023-11-24T01:40:56.510714Z",
     "start_time": "2023-11-24T01:40:56.507507Z"
    }
   },
   "outputs": [
    {
     "data": {
      "text/plain": [
       "'HI'"
      ]
     },
     "execution_count": 78,
     "metadata": {},
     "output_type": "execute_result"
    }
   ],
   "source": [
    "'hi'.upper()"
   ]
  },
  {
   "cell_type": "code",
   "execution_count": 79,
   "id": "e89f87e2",
   "metadata": {
    "ExecuteTime": {
     "end_time": "2023-11-24T01:41:20.125314Z",
     "start_time": "2023-11-24T01:41:20.122146Z"
    }
   },
   "outputs": [
    {
     "data": {
      "text/plain": [
       "'hi'"
      ]
     },
     "execution_count": 79,
     "metadata": {},
     "output_type": "execute_result"
    }
   ],
   "source": [
    "# 대문자를 소문자로 바꾸기\n",
    "a = 'HI'\n",
    "a.lower()"
   ]
  },
  {
   "cell_type": "markdown",
   "id": "93b6c0f6",
   "metadata": {},
   "source": [
    "## 공백 지우기 (strip)"
   ]
  },
  {
   "cell_type": "code",
   "execution_count": 82,
   "id": "388c9c97",
   "metadata": {
    "ExecuteTime": {
     "end_time": "2023-11-24T01:42:20.599662Z",
     "start_time": "2023-11-24T01:42:20.596456Z"
    }
   },
   "outputs": [
    {
     "name": "stdout",
     "output_type": "stream",
     "text": [
      "hi \n",
      " hi\n",
      "hi\n"
     ]
    }
   ],
   "source": [
    "# 왼쪽 공백 지우기\n",
    "a = ' hi '\n",
    "print(a.lstrip())\n",
    "print(a.rstrip())\n",
    "print(a.strip())"
   ]
  },
  {
   "cell_type": "markdown",
   "id": "4696aa02",
   "metadata": {
    "ExecuteTime": {
     "end_time": "2023-11-24T01:41:57.840171Z",
     "start_time": "2023-11-24T01:41:57.836800Z"
    }
   },
   "source": [
    "## 문자열 바꾸기(replace)"
   ]
  },
  {
   "cell_type": "code",
   "execution_count": 83,
   "id": "94374c05",
   "metadata": {
    "ExecuteTime": {
     "end_time": "2023-11-24T01:44:55.955589Z",
     "start_time": "2023-11-24T01:44:55.951460Z"
    }
   },
   "outputs": [
    {
     "data": {
      "text/plain": [
       "'Your leg is too short'"
      ]
     },
     "execution_count": 83,
     "metadata": {},
     "output_type": "execute_result"
    }
   ],
   "source": [
    "a = 'Life is too short'\n",
    "a.replace('Life', 'Your leg')"
   ]
  },
  {
   "cell_type": "code",
   "execution_count": 84,
   "id": "546d4f7f",
   "metadata": {
    "ExecuteTime": {
     "end_time": "2023-11-24T01:45:12.699778Z",
     "start_time": "2023-11-24T01:45:12.695066Z"
    }
   },
   "outputs": [],
   "source": [
    "a.replace?"
   ]
  },
  {
   "cell_type": "markdown",
   "id": "84a0d216",
   "metadata": {},
   "source": [
    "## 문자열 나누기(split)"
   ]
  },
  {
   "cell_type": "code",
   "execution_count": 85,
   "id": "4be5b48b",
   "metadata": {
    "ExecuteTime": {
     "end_time": "2023-11-24T01:46:25.153415Z",
     "start_time": "2023-11-24T01:46:25.150146Z"
    }
   },
   "outputs": [
    {
     "data": {
      "text/plain": [
       "'Life is too short'"
      ]
     },
     "execution_count": 85,
     "metadata": {},
     "output_type": "execute_result"
    }
   ],
   "source": [
    "a"
   ]
  },
  {
   "cell_type": "code",
   "execution_count": 86,
   "id": "73a6a119",
   "metadata": {
    "ExecuteTime": {
     "end_time": "2023-11-24T01:46:31.536799Z",
     "start_time": "2023-11-24T01:46:31.533580Z"
    }
   },
   "outputs": [
    {
     "data": {
      "text/plain": [
       "['Life', 'is', 'too', 'short']"
      ]
     },
     "execution_count": 86,
     "metadata": {},
     "output_type": "execute_result"
    }
   ],
   "source": [
    "a.split()"
   ]
  },
  {
   "cell_type": "code",
   "execution_count": 87,
   "id": "1f1e35e0",
   "metadata": {
    "ExecuteTime": {
     "end_time": "2023-11-24T01:46:45.629131Z",
     "start_time": "2023-11-24T01:46:45.626436Z"
    }
   },
   "outputs": [],
   "source": [
    "b = 'a:b:c:d'"
   ]
  },
  {
   "cell_type": "code",
   "execution_count": 88,
   "id": "9dd66f1b",
   "metadata": {
    "ExecuteTime": {
     "end_time": "2023-11-24T01:47:01.874966Z",
     "start_time": "2023-11-24T01:47:01.871345Z"
    }
   },
   "outputs": [
    {
     "data": {
      "text/plain": [
       "['a', 'b', 'c', 'd']"
      ]
     },
     "execution_count": 88,
     "metadata": {},
     "output_type": "execute_result"
    }
   ],
   "source": [
    "b.split(':')"
   ]
  },
  {
   "cell_type": "code",
   "execution_count": 89,
   "id": "3f515eb5",
   "metadata": {
    "ExecuteTime": {
     "end_time": "2023-11-24T01:47:07.060121Z",
     "start_time": "2023-11-24T01:47:07.056925Z"
    }
   },
   "outputs": [],
   "source": [
    "b.split?"
   ]
  },
  {
   "cell_type": "code",
   "execution_count": 90,
   "id": "1b59fb54",
   "metadata": {
    "ExecuteTime": {
     "end_time": "2023-11-24T01:47:48.602025Z",
     "start_time": "2023-11-24T01:47:48.598539Z"
    }
   },
   "outputs": [
    {
     "data": {
      "text/plain": [
       "'Life is too short'"
      ]
     },
     "execution_count": 90,
     "metadata": {},
     "output_type": "execute_result"
    }
   ],
   "source": [
    "a"
   ]
  },
  {
   "cell_type": "code",
   "execution_count": 92,
   "id": "d1f1d245",
   "metadata": {
    "ExecuteTime": {
     "end_time": "2023-11-24T01:48:01.100350Z",
     "start_time": "2023-11-24T01:48:01.096810Z"
    }
   },
   "outputs": [
    {
     "data": {
      "text/plain": [
       "['Life', 'is', 'too', 'short']"
      ]
     },
     "execution_count": 92,
     "metadata": {},
     "output_type": "execute_result"
    }
   ],
   "source": [
    "a1= a.split()\n",
    "a1"
   ]
  },
  {
   "cell_type": "code",
   "execution_count": 94,
   "id": "3d2ad52f",
   "metadata": {
    "ExecuteTime": {
     "end_time": "2023-11-24T01:49:05.874479Z",
     "start_time": "2023-11-24T01:49:05.870960Z"
    }
   },
   "outputs": [
    {
     "data": {
      "text/plain": [
       "'Life is too short'"
      ]
     },
     "execution_count": 94,
     "metadata": {},
     "output_type": "execute_result"
    }
   ],
   "source": [
    "' '.join(a1)"
   ]
  },
  {
   "cell_type": "markdown",
   "id": "37f68fbc",
   "metadata": {},
   "source": [
    "## 리스트"
   ]
  },
  {
   "cell_type": "code",
   "execution_count": 105,
   "id": "6d618e52",
   "metadata": {
    "ExecuteTime": {
     "end_time": "2023-11-24T02:06:16.816016Z",
     "start_time": "2023-11-24T02:06:16.812701Z"
    }
   },
   "outputs": [
    {
     "data": {
      "text/plain": [
       "([1, 3, 5, 7, 9], list)"
      ]
     },
     "execution_count": 105,
     "metadata": {},
     "output_type": "execute_result"
    }
   ],
   "source": [
    "odd = [1, 3, 5, 7, 9]\n",
    "odd, type(odd)"
   ]
  },
  {
   "cell_type": "code",
   "execution_count": 102,
   "id": "1f2ef1c9",
   "metadata": {
    "ExecuteTime": {
     "end_time": "2023-11-24T02:05:40.662093Z",
     "start_time": "2023-11-24T02:05:40.659187Z"
    }
   },
   "outputs": [
    {
     "name": "stdout",
     "output_type": "stream",
     "text": [
      "[] [] ['Life', 'is', 'too', 'short'] [1, 2, 'Life', 'is'] [1, 2, ['Life', 'is']]\n",
      "<class 'list'> <class 'list'> <class 'list'> <class 'list'> <class 'list'>\n"
     ]
    }
   ],
   "source": [
    "a = []\n",
    "b = []\n",
    "c = ['Life', 'is', 'too', 'short']\n",
    "d = [1,2,'Life','is']\n",
    "e = [1,2,['Life','is']]\n",
    "print(a,b,c,d,e)\n",
    "print(type(a),type(b),type(c),type(d),type(e))"
   ]
  },
  {
   "cell_type": "code",
   "execution_count": 104,
   "id": "d0360a8e",
   "metadata": {
    "ExecuteTime": {
     "end_time": "2023-11-24T02:06:11.056226Z",
     "start_time": "2023-11-24T02:06:11.053201Z"
    }
   },
   "outputs": [
    {
     "data": {
      "text/plain": [
       "(4, 3)"
      ]
     },
     "execution_count": 104,
     "metadata": {},
     "output_type": "execute_result"
    }
   ],
   "source": [
    "len(d), len(e)"
   ]
  },
  {
   "cell_type": "code",
   "execution_count": 106,
   "id": "e9949bb6",
   "metadata": {
    "ExecuteTime": {
     "end_time": "2023-11-24T02:06:26.335778Z",
     "start_time": "2023-11-24T02:06:26.332747Z"
    }
   },
   "outputs": [
    {
     "data": {
      "text/plain": [
       "['Life', 'is']"
      ]
     },
     "execution_count": 106,
     "metadata": {},
     "output_type": "execute_result"
    }
   ],
   "source": [
    "e[2]"
   ]
  },
  {
   "cell_type": "markdown",
   "id": "8eeda981",
   "metadata": {},
   "source": [
    "## 인덱싱과 슬라이싱"
   ]
  },
  {
   "cell_type": "code",
   "execution_count": 107,
   "id": "7a79eb7e",
   "metadata": {
    "ExecuteTime": {
     "end_time": "2023-11-24T02:07:03.011499Z",
     "start_time": "2023-11-24T02:07:03.008059Z"
    }
   },
   "outputs": [
    {
     "data": {
      "text/plain": [
       "[1, 2, 3]"
      ]
     },
     "execution_count": 107,
     "metadata": {},
     "output_type": "execute_result"
    }
   ],
   "source": [
    "a = [1, 2, 3]\n",
    "a"
   ]
  },
  {
   "cell_type": "code",
   "execution_count": 108,
   "id": "719c15f9",
   "metadata": {
    "ExecuteTime": {
     "end_time": "2023-11-24T02:07:13.755812Z",
     "start_time": "2023-11-24T02:07:13.752782Z"
    }
   },
   "outputs": [
    {
     "data": {
      "text/plain": [
       "1"
      ]
     },
     "execution_count": 108,
     "metadata": {},
     "output_type": "execute_result"
    }
   ],
   "source": [
    "a[0]"
   ]
  },
  {
   "cell_type": "code",
   "execution_count": 109,
   "id": "0d747ab8",
   "metadata": {
    "ExecuteTime": {
     "end_time": "2023-11-24T02:07:32.001305Z",
     "start_time": "2023-11-24T02:07:31.997652Z"
    }
   },
   "outputs": [
    {
     "data": {
      "text/plain": [
       "int"
      ]
     },
     "execution_count": 109,
     "metadata": {},
     "output_type": "execute_result"
    }
   ],
   "source": [
    "type(a[0])"
   ]
  },
  {
   "cell_type": "code",
   "execution_count": 110,
   "id": "e324b2cc",
   "metadata": {
    "ExecuteTime": {
     "end_time": "2023-11-24T02:07:46.453841Z",
     "start_time": "2023-11-24T02:07:46.449723Z"
    }
   },
   "outputs": [
    {
     "data": {
      "text/plain": [
       "3"
      ]
     },
     "execution_count": 110,
     "metadata": {},
     "output_type": "execute_result"
    }
   ],
   "source": [
    "a[0] * a[2]"
   ]
  },
  {
   "cell_type": "code",
   "execution_count": 111,
   "id": "c991652b",
   "metadata": {
    "ExecuteTime": {
     "end_time": "2023-11-24T02:07:58.049799Z",
     "start_time": "2023-11-24T02:07:58.046586Z"
    }
   },
   "outputs": [
    {
     "data": {
      "text/plain": [
       "3"
      ]
     },
     "execution_count": 111,
     "metadata": {},
     "output_type": "execute_result"
    }
   ],
   "source": [
    "a[-1]"
   ]
  },
  {
   "cell_type": "code",
   "execution_count": 112,
   "id": "01a9537d",
   "metadata": {
    "ExecuteTime": {
     "end_time": "2023-11-24T02:08:24.678957Z",
     "start_time": "2023-11-24T02:08:24.674329Z"
    }
   },
   "outputs": [
    {
     "data": {
      "text/plain": [
       "1"
      ]
     },
     "execution_count": 112,
     "metadata": {},
     "output_type": "execute_result"
    }
   ],
   "source": [
    "b = [1, 2, 3, ['a', 'b', 'c']]\n",
    "b[0]"
   ]
  },
  {
   "cell_type": "code",
   "execution_count": 113,
   "id": "2d64358c",
   "metadata": {
    "ExecuteTime": {
     "end_time": "2023-11-24T02:08:28.869896Z",
     "start_time": "2023-11-24T02:08:28.866241Z"
    }
   },
   "outputs": [
    {
     "data": {
      "text/plain": [
       "['a', 'b', 'c']"
      ]
     },
     "execution_count": 113,
     "metadata": {},
     "output_type": "execute_result"
    }
   ],
   "source": [
    "b[-1]"
   ]
  },
  {
   "cell_type": "code",
   "execution_count": 114,
   "id": "95484c65",
   "metadata": {
    "ExecuteTime": {
     "end_time": "2023-11-24T02:08:37.691785Z",
     "start_time": "2023-11-24T02:08:37.688586Z"
    }
   },
   "outputs": [
    {
     "data": {
      "text/plain": [
       "['a', 'b', 'c']"
      ]
     },
     "execution_count": 114,
     "metadata": {},
     "output_type": "execute_result"
    }
   ],
   "source": [
    "b[3]"
   ]
  },
  {
   "cell_type": "code",
   "execution_count": 116,
   "id": "19463c9c",
   "metadata": {
    "ExecuteTime": {
     "end_time": "2023-11-24T02:08:57.493482Z",
     "start_time": "2023-11-24T02:08:57.490046Z"
    }
   },
   "outputs": [
    {
     "data": {
      "text/plain": [
       "'a'"
      ]
     },
     "execution_count": 116,
     "metadata": {},
     "output_type": "execute_result"
    }
   ],
   "source": [
    "b[3][0]"
   ]
  },
  {
   "cell_type": "code",
   "execution_count": 117,
   "id": "46971348",
   "metadata": {
    "ExecuteTime": {
     "end_time": "2023-11-24T02:09:28.661910Z",
     "start_time": "2023-11-24T02:09:28.658726Z"
    }
   },
   "outputs": [
    {
     "data": {
      "text/plain": [
       "'b'"
      ]
     },
     "execution_count": 117,
     "metadata": {},
     "output_type": "execute_result"
    }
   ],
   "source": [
    "b[-1][1]"
   ]
  },
  {
   "cell_type": "code",
   "execution_count": 118,
   "id": "544f2940",
   "metadata": {
    "ExecuteTime": {
     "end_time": "2023-11-24T02:09:59.906940Z",
     "start_time": "2023-11-24T02:09:59.902992Z"
    }
   },
   "outputs": [
    {
     "data": {
      "text/plain": [
       "[1, 2, ['a', 'b', ['Life', 'is']]]"
      ]
     },
     "execution_count": 118,
     "metadata": {},
     "output_type": "execute_result"
    }
   ],
   "source": [
    "c = [1,2,['a','b',['Life','is']]]\n",
    "c"
   ]
  },
  {
   "cell_type": "code",
   "execution_count": 119,
   "id": "9f36ab61",
   "metadata": {
    "ExecuteTime": {
     "end_time": "2023-11-24T02:10:30.413097Z",
     "start_time": "2023-11-24T02:10:30.409816Z"
    }
   },
   "outputs": [
    {
     "data": {
      "text/plain": [
       "'Life'"
      ]
     },
     "execution_count": 119,
     "metadata": {},
     "output_type": "execute_result"
    }
   ],
   "source": [
    "c[2][2][0]"
   ]
  },
  {
   "cell_type": "code",
   "execution_count": 120,
   "id": "4076c0dc",
   "metadata": {
    "ExecuteTime": {
     "end_time": "2023-11-24T02:11:03.948975Z",
     "start_time": "2023-11-24T02:11:03.945757Z"
    }
   },
   "outputs": [
    {
     "data": {
      "text/plain": [
       "'Life'"
      ]
     },
     "execution_count": 120,
     "metadata": {},
     "output_type": "execute_result"
    }
   ],
   "source": [
    "c[-1][-1][0]"
   ]
  },
  {
   "cell_type": "code",
   "execution_count": 121,
   "id": "55be31e8",
   "metadata": {
    "ExecuteTime": {
     "end_time": "2023-11-24T02:21:57.105838Z",
     "start_time": "2023-11-24T02:21:57.101838Z"
    }
   },
   "outputs": [
    {
     "data": {
      "text/plain": [
       "[1, 2]"
      ]
     },
     "execution_count": 121,
     "metadata": {},
     "output_type": "execute_result"
    }
   ],
   "source": [
    "a = [1,2,3,4,5]\n",
    "a[0:2]"
   ]
  },
  {
   "cell_type": "code",
   "execution_count": 122,
   "id": "8affbee9",
   "metadata": {
    "ExecuteTime": {
     "end_time": "2023-11-24T02:22:05.440438Z",
     "start_time": "2023-11-24T02:22:05.435919Z"
    }
   },
   "outputs": [
    {
     "data": {
      "text/plain": [
       "'12'"
      ]
     },
     "execution_count": 122,
     "metadata": {},
     "output_type": "execute_result"
    }
   ],
   "source": [
    "a = '12345'\n",
    "a[0:2]"
   ]
  },
  {
   "cell_type": "code",
   "execution_count": 123,
   "id": "b7540652",
   "metadata": {
    "ExecuteTime": {
     "end_time": "2023-11-24T02:22:32.687178Z",
     "start_time": "2023-11-24T02:22:32.684360Z"
    }
   },
   "outputs": [
    {
     "name": "stdout",
     "output_type": "stream",
     "text": [
      "[1, 2] [3, 4, 5]\n"
     ]
    }
   ],
   "source": [
    "a = [1,2,3,4,5]\n",
    "b = a[:2]\n",
    "c = a[2:]\n",
    "print(b, c)"
   ]
  },
  {
   "cell_type": "code",
   "execution_count": 124,
   "id": "47e12700",
   "metadata": {
    "ExecuteTime": {
     "end_time": "2023-11-24T02:23:13.811627Z",
     "start_time": "2023-11-24T02:23:13.808246Z"
    }
   },
   "outputs": [
    {
     "data": {
      "text/plain": [
       "[1, 2, 3, ['a', 'b', 'c'], 4, 5]"
      ]
     },
     "execution_count": 124,
     "metadata": {},
     "output_type": "execute_result"
    }
   ],
   "source": [
    "a = [1, 2, 3, ['a','b','c'], 4, 5]\n",
    "a"
   ]
  },
  {
   "cell_type": "code",
   "execution_count": 125,
   "id": "49de00d2",
   "metadata": {
    "ExecuteTime": {
     "end_time": "2023-11-24T02:23:18.695851Z",
     "start_time": "2023-11-24T02:23:18.691769Z"
    }
   },
   "outputs": [
    {
     "data": {
      "text/plain": [
       "[3, ['a', 'b', 'c'], 4]"
      ]
     },
     "execution_count": 125,
     "metadata": {},
     "output_type": "execute_result"
    }
   ],
   "source": [
    "a[2:5]"
   ]
  },
  {
   "cell_type": "code",
   "execution_count": 126,
   "id": "82ee9d65",
   "metadata": {
    "ExecuteTime": {
     "end_time": "2023-11-24T02:23:37.517008Z",
     "start_time": "2023-11-24T02:23:37.513864Z"
    }
   },
   "outputs": [
    {
     "data": {
      "text/plain": [
       "['a', 'b']"
      ]
     },
     "execution_count": 126,
     "metadata": {},
     "output_type": "execute_result"
    }
   ],
   "source": [
    "a[3][:2]"
   ]
  },
  {
   "cell_type": "code",
   "execution_count": 127,
   "id": "cdbd02a7",
   "metadata": {
    "ExecuteTime": {
     "end_time": "2023-11-24T02:24:27.608461Z",
     "start_time": "2023-11-24T02:24:27.604960Z"
    }
   },
   "outputs": [
    {
     "data": {
      "text/plain": [
       "[1, 2, 3, 4, 5, 6]"
      ]
     },
     "execution_count": 127,
     "metadata": {},
     "output_type": "execute_result"
    }
   ],
   "source": [
    "# 리스트 연산하기\n",
    "a = [1,2,3]\n",
    "b = [4,5,6]\n",
    "a + b"
   ]
  },
  {
   "cell_type": "code",
   "execution_count": 128,
   "id": "2dc37ba8",
   "metadata": {
    "ExecuteTime": {
     "end_time": "2023-11-24T02:25:05.764502Z",
     "start_time": "2023-11-24T02:25:05.761121Z"
    }
   },
   "outputs": [
    {
     "data": {
      "text/plain": [
       "[1, 2, 3, 1, 2, 3, 1, 2, 3]"
      ]
     },
     "execution_count": 128,
     "metadata": {},
     "output_type": "execute_result"
    }
   ],
   "source": [
    "# 리스트 반복하기\n",
    "a * 3"
   ]
  },
  {
   "cell_type": "code",
   "execution_count": 129,
   "id": "3feb08af",
   "metadata": {
    "ExecuteTime": {
     "end_time": "2023-11-24T02:25:14.250830Z",
     "start_time": "2023-11-24T02:25:14.247920Z"
    }
   },
   "outputs": [
    {
     "data": {
      "text/plain": [
       "3"
      ]
     },
     "execution_count": 129,
     "metadata": {},
     "output_type": "execute_result"
    }
   ],
   "source": [
    "# 리스트 길이 구하기\n",
    "len(a)"
   ]
  },
  {
   "cell_type": "markdown",
   "id": "cf4351ef",
   "metadata": {},
   "source": [
    "## 리스트의 수정과 삭제"
   ]
  },
  {
   "cell_type": "code",
   "execution_count": 130,
   "id": "73e50f3d",
   "metadata": {
    "ExecuteTime": {
     "end_time": "2023-11-24T02:26:09.264231Z",
     "start_time": "2023-11-24T02:26:09.261141Z"
    }
   },
   "outputs": [],
   "source": [
    "a = [1,2,3]\n",
    "a[2] = 4"
   ]
  },
  {
   "cell_type": "code",
   "execution_count": 131,
   "id": "bdadc359",
   "metadata": {
    "ExecuteTime": {
     "end_time": "2023-11-24T02:26:35.561830Z",
     "start_time": "2023-11-24T02:26:35.557977Z"
    }
   },
   "outputs": [
    {
     "data": {
      "text/plain": [
       "[1, 3]"
      ]
     },
     "execution_count": 131,
     "metadata": {},
     "output_type": "execute_result"
    }
   ],
   "source": [
    "# del 함수\n",
    "a = [1,2,3]\n",
    "del a[1]\n",
    "a"
   ]
  },
  {
   "cell_type": "code",
   "execution_count": 132,
   "id": "b32487b4",
   "metadata": {
    "ExecuteTime": {
     "end_time": "2023-11-24T02:26:58.318133Z",
     "start_time": "2023-11-24T02:26:58.314403Z"
    }
   },
   "outputs": [
    {
     "data": {
      "text/plain": [
       "[1, 2]"
      ]
     },
     "execution_count": 132,
     "metadata": {},
     "output_type": "execute_result"
    }
   ],
   "source": [
    "a = [1,2,3,4,5]\n",
    "del a[2:]\n",
    "a"
   ]
  },
  {
   "cell_type": "markdown",
   "id": "0e75758d",
   "metadata": {},
   "source": [
    "## 리스트 관련 함수\n",
    "* 요소 추가(append)"
   ]
  },
  {
   "cell_type": "code",
   "execution_count": 133,
   "id": "10d1d8ad",
   "metadata": {
    "ExecuteTime": {
     "end_time": "2023-11-24T02:29:02.137958Z",
     "start_time": "2023-11-24T02:29:02.133669Z"
    }
   },
   "outputs": [
    {
     "data": {
      "text/plain": [
       "[1, 2, 3, 4]"
      ]
     },
     "execution_count": 133,
     "metadata": {},
     "output_type": "execute_result"
    }
   ],
   "source": [
    "a = [1, 2, 3]\n",
    "a.append(4)\n",
    "a"
   ]
  },
  {
   "cell_type": "code",
   "execution_count": 134,
   "id": "9813dd2c",
   "metadata": {
    "ExecuteTime": {
     "end_time": "2023-11-24T02:29:27.269322Z",
     "start_time": "2023-11-24T02:29:27.264456Z"
    }
   },
   "outputs": [
    {
     "data": {
      "text/plain": [
       "[1, 2, 3, 4, [5, 6]]"
      ]
     },
     "execution_count": 134,
     "metadata": {},
     "output_type": "execute_result"
    }
   ],
   "source": [
    "a.append([5,6])\n",
    "a"
   ]
  },
  {
   "cell_type": "markdown",
   "id": "5bf5a04e",
   "metadata": {},
   "source": [
    "## 정렬(sort)"
   ]
  },
  {
   "cell_type": "code",
   "execution_count": 135,
   "id": "b757e00a",
   "metadata": {
    "ExecuteTime": {
     "end_time": "2023-11-24T02:30:04.949408Z",
     "start_time": "2023-11-24T02:30:04.945185Z"
    }
   },
   "outputs": [
    {
     "data": {
      "text/plain": [
       "[1, 2, 3, 4]"
      ]
     },
     "execution_count": 135,
     "metadata": {},
     "output_type": "execute_result"
    }
   ],
   "source": [
    "a = [1,4,3,2]\n",
    "a.sort()\n",
    "a"
   ]
  },
  {
   "cell_type": "code",
   "execution_count": 136,
   "id": "3309a4d0",
   "metadata": {
    "ExecuteTime": {
     "end_time": "2023-11-24T02:30:28.447260Z",
     "start_time": "2023-11-24T02:30:28.443132Z"
    }
   },
   "outputs": [
    {
     "data": {
      "text/plain": [
       "['a', 'b', 'c']"
      ]
     },
     "execution_count": 136,
     "metadata": {},
     "output_type": "execute_result"
    }
   ],
   "source": [
    "a = ['a','c','b']\n",
    "a.sort()\n",
    "a"
   ]
  },
  {
   "cell_type": "markdown",
   "id": "f3a7d1d7",
   "metadata": {},
   "source": [
    "## 리스트 뒤집기 (reverse)"
   ]
  },
  {
   "cell_type": "code",
   "execution_count": 137,
   "id": "7ca1fc7b",
   "metadata": {
    "ExecuteTime": {
     "end_time": "2023-11-24T02:30:56.284358Z",
     "start_time": "2023-11-24T02:30:56.281261Z"
    }
   },
   "outputs": [],
   "source": [
    "a = ['a','c','b']"
   ]
  },
  {
   "cell_type": "code",
   "execution_count": 138,
   "id": "78b42fdf",
   "metadata": {
    "ExecuteTime": {
     "end_time": "2023-11-24T02:31:02.375252Z",
     "start_time": "2023-11-24T02:31:02.372250Z"
    }
   },
   "outputs": [
    {
     "data": {
      "text/plain": [
       "['b', 'c', 'a']"
      ]
     },
     "execution_count": 138,
     "metadata": {},
     "output_type": "execute_result"
    }
   ],
   "source": [
    "a.reverse()\n",
    "a"
   ]
  },
  {
   "cell_type": "markdown",
   "id": "a5c49f1a",
   "metadata": {},
   "source": [
    "## 위치반환"
   ]
  },
  {
   "cell_type": "code",
   "execution_count": 139,
   "id": "83b0b372",
   "metadata": {
    "ExecuteTime": {
     "end_time": "2023-11-24T02:32:03.505035Z",
     "start_time": "2023-11-24T02:32:03.500914Z"
    }
   },
   "outputs": [
    {
     "data": {
      "text/plain": [
       "2"
      ]
     },
     "execution_count": 139,
     "metadata": {},
     "output_type": "execute_result"
    }
   ],
   "source": [
    "a = [1,2,3]\n",
    "a.index(3)"
   ]
  },
  {
   "cell_type": "markdown",
   "id": "b2007139",
   "metadata": {
    "ExecuteTime": {
     "end_time": "2023-11-24T02:35:38.398992Z",
     "start_time": "2023-11-24T02:35:38.394487Z"
    }
   },
   "source": [
    "## 요소 삽입(insert)"
   ]
  },
  {
   "cell_type": "code",
   "execution_count": 141,
   "id": "433c746d",
   "metadata": {
    "ExecuteTime": {
     "end_time": "2023-11-24T02:36:00.137294Z",
     "start_time": "2023-11-24T02:36:00.134285Z"
    }
   },
   "outputs": [],
   "source": [
    "a = [1,2,3]"
   ]
  },
  {
   "cell_type": "code",
   "execution_count": 142,
   "id": "ff9df4c8",
   "metadata": {
    "ExecuteTime": {
     "end_time": "2023-11-24T02:36:07.249103Z",
     "start_time": "2023-11-24T02:36:07.245598Z"
    }
   },
   "outputs": [],
   "source": [
    "a.insert?"
   ]
  },
  {
   "cell_type": "code",
   "execution_count": 143,
   "id": "8d224b4f",
   "metadata": {
    "ExecuteTime": {
     "end_time": "2023-11-24T02:36:18.948654Z",
     "start_time": "2023-11-24T02:36:18.945143Z"
    }
   },
   "outputs": [],
   "source": [
    "a.insert(0, 4)"
   ]
  },
  {
   "cell_type": "code",
   "execution_count": 144,
   "id": "2bb646e4",
   "metadata": {
    "ExecuteTime": {
     "end_time": "2023-11-24T02:36:23.810498Z",
     "start_time": "2023-11-24T02:36:23.806715Z"
    }
   },
   "outputs": [
    {
     "data": {
      "text/plain": [
       "[4, 1, 2, 3]"
      ]
     },
     "execution_count": 144,
     "metadata": {},
     "output_type": "execute_result"
    }
   ],
   "source": [
    "a"
   ]
  },
  {
   "cell_type": "code",
   "execution_count": 145,
   "id": "dd20d643",
   "metadata": {
    "ExecuteTime": {
     "end_time": "2023-11-24T02:36:42.256168Z",
     "start_time": "2023-11-24T02:36:42.253338Z"
    }
   },
   "outputs": [],
   "source": [
    "a.insert(3, 5)"
   ]
  },
  {
   "cell_type": "code",
   "execution_count": 146,
   "id": "61811d98",
   "metadata": {
    "ExecuteTime": {
     "end_time": "2023-11-24T02:36:44.273768Z",
     "start_time": "2023-11-24T02:36:44.270424Z"
    }
   },
   "outputs": [
    {
     "data": {
      "text/plain": [
       "[4, 1, 2, 5, 3]"
      ]
     },
     "execution_count": 146,
     "metadata": {},
     "output_type": "execute_result"
    }
   ],
   "source": [
    "a"
   ]
  },
  {
   "cell_type": "markdown",
   "id": "32698c3a",
   "metadata": {},
   "source": [
    "## 요소 제거(remove)"
   ]
  },
  {
   "cell_type": "code",
   "execution_count": 147,
   "id": "632bb3f1",
   "metadata": {
    "ExecuteTime": {
     "end_time": "2023-11-24T02:37:44.005546Z",
     "start_time": "2023-11-24T02:37:44.002663Z"
    }
   },
   "outputs": [
    {
     "data": {
      "text/plain": [
       "[1, 2, 3, 1, 2, 3]"
      ]
     },
     "execution_count": 147,
     "metadata": {},
     "output_type": "execute_result"
    }
   ],
   "source": [
    "a = [1,2,3,1,2,3]\n",
    "a"
   ]
  },
  {
   "cell_type": "code",
   "execution_count": 148,
   "id": "a8abc661",
   "metadata": {
    "ExecuteTime": {
     "end_time": "2023-11-24T02:37:48.929681Z",
     "start_time": "2023-11-24T02:37:48.926879Z"
    }
   },
   "outputs": [],
   "source": [
    "a.remove(3)"
   ]
  },
  {
   "cell_type": "code",
   "execution_count": 149,
   "id": "66ca10e5",
   "metadata": {
    "ExecuteTime": {
     "end_time": "2023-11-24T02:37:51.052733Z",
     "start_time": "2023-11-24T02:37:51.048725Z"
    }
   },
   "outputs": [
    {
     "data": {
      "text/plain": [
       "[1, 2, 1, 2, 3]"
      ]
     },
     "execution_count": 149,
     "metadata": {},
     "output_type": "execute_result"
    }
   ],
   "source": [
    "a"
   ]
  },
  {
   "cell_type": "markdown",
   "id": "340039e5",
   "metadata": {},
   "source": [
    "## 요소 추출(pop)"
   ]
  },
  {
   "cell_type": "code",
   "execution_count": 150,
   "id": "26a365ea",
   "metadata": {
    "ExecuteTime": {
     "end_time": "2023-11-24T02:38:31.773161Z",
     "start_time": "2023-11-24T02:38:31.769845Z"
    }
   },
   "outputs": [
    {
     "data": {
      "text/plain": [
       "[1, 2]"
      ]
     },
     "execution_count": 150,
     "metadata": {},
     "output_type": "execute_result"
    }
   ],
   "source": [
    "a = [1,2,3]\n",
    "a.pop()\n",
    "a"
   ]
  },
  {
   "cell_type": "code",
   "execution_count": 157,
   "id": "fdb00437",
   "metadata": {
    "ExecuteTime": {
     "end_time": "2023-11-24T02:39:59.439706Z",
     "start_time": "2023-11-24T02:39:59.436708Z"
    }
   },
   "outputs": [
    {
     "data": {
      "text/plain": [
       "[1, 3]"
      ]
     },
     "execution_count": 157,
     "metadata": {},
     "output_type": "execute_result"
    }
   ],
   "source": [
    "a=[1,2,3]\n",
    "a.pop(1)\n",
    "a"
   ]
  },
  {
   "cell_type": "markdown",
   "id": "cc37dded",
   "metadata": {},
   "source": [
    "## 리스트 확장(extend)"
   ]
  },
  {
   "cell_type": "code",
   "execution_count": 158,
   "id": "3fc98f3f",
   "metadata": {
    "ExecuteTime": {
     "end_time": "2023-11-24T02:41:29.612188Z",
     "start_time": "2023-11-24T02:41:29.608718Z"
    }
   },
   "outputs": [
    {
     "data": {
      "text/plain": [
       "[1, 2, 3, 4, 5]"
      ]
     },
     "execution_count": 158,
     "metadata": {},
     "output_type": "execute_result"
    }
   ],
   "source": [
    "a = [1,2,3]\n",
    "a.extend([4,5])\n",
    "a"
   ]
  },
  {
   "cell_type": "code",
   "execution_count": 159,
   "id": "5b4560ee",
   "metadata": {
    "ExecuteTime": {
     "end_time": "2023-11-24T02:41:51.908457Z",
     "start_time": "2023-11-24T02:41:51.906078Z"
    }
   },
   "outputs": [],
   "source": [
    "b = [6,7]\n",
    "a.extend(b)"
   ]
  },
  {
   "cell_type": "code",
   "execution_count": 160,
   "id": "ba3c4729",
   "metadata": {
    "ExecuteTime": {
     "end_time": "2023-11-24T02:41:56.943595Z",
     "start_time": "2023-11-24T02:41:56.939669Z"
    }
   },
   "outputs": [
    {
     "data": {
      "text/plain": [
       "[1, 2, 3, 4, 5, 6, 7]"
      ]
     },
     "execution_count": 160,
     "metadata": {},
     "output_type": "execute_result"
    }
   ],
   "source": [
    "a"
   ]
  },
  {
   "cell_type": "code",
   "execution_count": 161,
   "id": "89b3f8ff",
   "metadata": {
    "ExecuteTime": {
     "end_time": "2023-11-24T02:42:09.200020Z",
     "start_time": "2023-11-24T02:42:09.195987Z"
    }
   },
   "outputs": [
    {
     "data": {
      "text/plain": [
       "[1, 2, 3, 4, 5, 6, 7, 4, 5]"
      ]
     },
     "execution_count": 161,
     "metadata": {},
     "output_type": "execute_result"
    }
   ],
   "source": [
    "a += [4,5]\n",
    "a"
   ]
  },
  {
   "cell_type": "markdown",
   "id": "231b4a17",
   "metadata": {},
   "source": [
    "## 튜플"
   ]
  },
  {
   "cell_type": "code",
   "execution_count": 162,
   "id": "129317fb",
   "metadata": {
    "ExecuteTime": {
     "end_time": "2023-11-24T02:46:46.400517Z",
     "start_time": "2023-11-24T02:46:46.396923Z"
    }
   },
   "outputs": [
    {
     "name": "stdout",
     "output_type": "stream",
     "text": [
      "() (1,) (1, 2, 3) (1, 2, 3) ('a', 'b', ('ab', 'cd'))\n",
      "<class 'tuple'> <class 'tuple'> <class 'tuple'> <class 'tuple'> <class 'tuple'>\n"
     ]
    }
   ],
   "source": [
    "t1 = ()\n",
    "t2 = (1, )\n",
    "t3 = (1,2,3)\n",
    "t4 = 1, 2, 3\n",
    "t5 = ('a','b',('ab','cd'))\n",
    "print(t1,t2,t3,t4,t5)\n",
    "print(type(t1),type(t2),type(t3),type(t4),type(t5))"
   ]
  },
  {
   "cell_type": "code",
   "execution_count": 163,
   "id": "391722c9",
   "metadata": {
    "ExecuteTime": {
     "end_time": "2023-11-24T02:48:01.529819Z",
     "start_time": "2023-11-24T02:48:01.525821Z"
    }
   },
   "outputs": [
    {
     "data": {
      "text/plain": [
       "1"
      ]
     },
     "execution_count": 163,
     "metadata": {},
     "output_type": "execute_result"
    }
   ],
   "source": [
    "t6 = (1)\n",
    "t6"
   ]
  },
  {
   "cell_type": "code",
   "execution_count": 165,
   "id": "bdbc8f42",
   "metadata": {
    "ExecuteTime": {
     "end_time": "2023-11-24T02:48:19.173159Z",
     "start_time": "2023-11-24T02:48:19.169693Z"
    }
   },
   "outputs": [
    {
     "name": "stdout",
     "output_type": "stream",
     "text": [
      "1 <class 'int'>\n"
     ]
    }
   ],
   "source": [
    "print(t6,type(t6))"
   ]
  },
  {
   "cell_type": "code",
   "execution_count": 166,
   "id": "4a66349d",
   "metadata": {
    "ExecuteTime": {
     "end_time": "2023-11-24T02:49:19.169670Z",
     "start_time": "2023-11-24T02:49:19.158650Z"
    }
   },
   "outputs": [
    {
     "ename": "TypeError",
     "evalue": "'tuple' object doesn't support item deletion",
     "output_type": "error",
     "traceback": [
      "\u001b[1;31m---------------------------------------------------------------------------\u001b[0m",
      "\u001b[1;31mTypeError\u001b[0m                                 Traceback (most recent call last)",
      "Cell \u001b[1;32mIn[166], line 2\u001b[0m\n\u001b[0;32m      1\u001b[0m t1 \u001b[38;5;241m=\u001b[39m (\u001b[38;5;241m1\u001b[39m,\u001b[38;5;241m2\u001b[39m,\u001b[38;5;124m'\u001b[39m\u001b[38;5;124ma\u001b[39m\u001b[38;5;124m'\u001b[39m,\u001b[38;5;124m'\u001b[39m\u001b[38;5;124mb\u001b[39m\u001b[38;5;124m'\u001b[39m)\n\u001b[1;32m----> 2\u001b[0m \u001b[38;5;28;01mdel\u001b[39;00m t1[\u001b[38;5;241m0\u001b[39m]\n",
      "\u001b[1;31mTypeError\u001b[0m: 'tuple' object doesn't support item deletion"
     ]
    }
   ],
   "source": [
    "t1 = (1,2,'a','b')\n",
    "del t1[0]"
   ]
  },
  {
   "cell_type": "code",
   "execution_count": 167,
   "id": "a5d90923",
   "metadata": {
    "ExecuteTime": {
     "end_time": "2023-11-24T02:49:39.572938Z",
     "start_time": "2023-11-24T02:49:39.562992Z"
    }
   },
   "outputs": [
    {
     "ename": "TypeError",
     "evalue": "'tuple' object does not support item assignment",
     "output_type": "error",
     "traceback": [
      "\u001b[1;31m---------------------------------------------------------------------------\u001b[0m",
      "\u001b[1;31mTypeError\u001b[0m                                 Traceback (most recent call last)",
      "Cell \u001b[1;32mIn[167], line 2\u001b[0m\n\u001b[0;32m      1\u001b[0m t1 \u001b[38;5;241m=\u001b[39m (\u001b[38;5;241m1\u001b[39m,\u001b[38;5;241m2\u001b[39m,\u001b[38;5;124m'\u001b[39m\u001b[38;5;124ma\u001b[39m\u001b[38;5;124m'\u001b[39m,\u001b[38;5;124m'\u001b[39m\u001b[38;5;124mb\u001b[39m\u001b[38;5;124m'\u001b[39m)\n\u001b[1;32m----> 2\u001b[0m t1[\u001b[38;5;241m0\u001b[39m] \u001b[38;5;241m=\u001b[39m \u001b[38;5;124m'\u001b[39m\u001b[38;5;124mc\u001b[39m\u001b[38;5;124m'\u001b[39m\n",
      "\u001b[1;31mTypeError\u001b[0m: 'tuple' object does not support item assignment"
     ]
    }
   ],
   "source": [
    "t1 = (1,2,'a','b')\n",
    "t1[0] = 'c'"
   ]
  },
  {
   "cell_type": "code",
   "execution_count": 169,
   "id": "f2d7ed11",
   "metadata": {
    "ExecuteTime": {
     "end_time": "2023-11-24T02:56:18.364315Z",
     "start_time": "2023-11-24T02:56:18.360510Z"
    }
   },
   "outputs": [
    {
     "data": {
      "text/plain": [
       "('a', 'b', ('ab', 'cd'))"
      ]
     },
     "execution_count": 169,
     "metadata": {},
     "output_type": "execute_result"
    }
   ],
   "source": [
    "t5 = ('a','b',('ab','cd'))\n",
    "t5"
   ]
  },
  {
   "cell_type": "code",
   "execution_count": null,
   "id": "547f74d2",
   "metadata": {},
   "outputs": [],
   "source": []
  }
 ],
 "metadata": {
  "kernelspec": {
   "display_name": "Python 3 (ipykernel)",
   "language": "python",
   "name": "python3"
  },
  "language_info": {
   "codemirror_mode": {
    "name": "ipython",
    "version": 3
   },
   "file_extension": ".py",
   "mimetype": "text/x-python",
   "name": "python",
   "nbconvert_exporter": "python",
   "pygments_lexer": "ipython3",
   "version": "3.11.5"
  },
  "toc": {
   "base_numbering": 1,
   "nav_menu": {},
   "number_sections": true,
   "sideBar": true,
   "skip_h1_title": false,
   "title_cell": "Table of Contents",
   "title_sidebar": "Contents",
   "toc_cell": false,
   "toc_position": {},
   "toc_section_display": true,
   "toc_window_display": false
  }
 },
 "nbformat": 4,
 "nbformat_minor": 5
}
