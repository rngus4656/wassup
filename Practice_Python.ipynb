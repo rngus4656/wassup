{
 "cells": [
  {
   "cell_type": "markdown",
   "id": "fb7b48af",
   "metadata": {
    "ExecuteTime": {
     "end_time": "2023-11-24T07:57:55.408592Z",
     "start_time": "2023-11-24T07:57:55.405968Z"
    }
   },
   "source": [
    "# 11.24 파이썬 시작하기 ~ 튜플 (80제)"
   ]
  },
  {
   "cell_type": "code",
   "execution_count": 9,
   "id": "e58da690",
   "metadata": {
    "ExecuteTime": {
     "end_time": "2023-11-26T05:30:17.661154Z",
     "start_time": "2023-11-26T05:30:17.658405Z"
    }
   },
   "outputs": [
    {
     "name": "stdout",
     "output_type": "stream",
     "text": [
      "신씨가 소리질렀다. \"도둑이야!\"\n"
     ]
    }
   ],
   "source": [
    "# 3번,'과 \" 구분 잘해주기\n",
    "print('신씨가 소리질렀다. \"도둑이야!\"')"
   ]
  },
  {
   "cell_type": "code",
   "execution_count": 10,
   "id": "cd7d5bb1",
   "metadata": {
    "ExecuteTime": {
     "end_time": "2023-11-26T05:30:17.665739Z",
     "start_time": "2023-11-26T05:30:17.662163Z"
    }
   },
   "outputs": [
    {
     "name": "stdout",
     "output_type": "stream",
     "text": [
      "C:\\Windows C:/Windows\n",
      "슬래시(/) 경로 : True \n",
      "백슬래시(\\) 경로 : True\n"
     ]
    }
   ],
   "source": [
    "# 4번, 경로설정할때 백슬래시가 이스케이프문자로 인식되지 않게 슬래시 ( / ) 를 써도 경로로 인식이 됨\n",
    "print('C:\\Windows', 'C:/Windows')\n",
    "\n",
    "# 경로를 설정하는 예시\n",
    "import os  # 디렉토리 설정, 확인 등에 쓰이는 os 모듈 활용\n",
    "path_1 = 'C:/workspace/python/wassup/README.md' # 슬래시 (/)를 이용한 경로설정\n",
    "path_2 = 'C:\\workspace\\python\\wassup\\README.md' # 백슬래시 (\\)를 이용한 경로설정\n",
    "print(f'슬래시(/) 경로 : {os.path.exists(path_1)} \\n백슬래시(\\) 경로 : {os.path.exists(path_2)}')\n",
    "# 둘다 사용 가능하지만 백슬래시 (\\)는 이스케이프 문자로도 쓰이므로 경로설정할땐 보통 슬래시 (/)를 사용함"
   ]
  },
  {
   "cell_type": "code",
   "execution_count": 11,
   "id": "e6e0e748",
   "metadata": {
    "ExecuteTime": {
     "end_time": "2023-11-26T05:30:17.669246Z",
     "start_time": "2023-11-26T05:30:17.665739Z"
    }
   },
   "outputs": [
    {
     "name": "stdout",
     "output_type": "stream",
     "text": [
      "안녕하세요.\n",
      "만나서\t\t반갑습니다.\n"
     ]
    }
   ],
   "source": [
    "# 5번, 탭 (들여쓰기)를 쓰는 상황에 익숙해지기 -> print보다는 코드사용할때 들여쓰기가 많이쓰임\n",
    "print(\"안녕하세요.\\n만나서\\t\\t반갑습니다.\")"
   ]
  },
  {
   "cell_type": "code",
   "execution_count": 12,
   "id": "62da519d",
   "metadata": {
    "ExecuteTime": {
     "end_time": "2023-11-26T05:30:17.674597Z",
     "start_time": "2023-11-26T05:30:17.671459Z"
    }
   },
   "outputs": [
    {
     "name": "stdout",
     "output_type": "stream",
     "text": [
      "naver;kakao;samsung\n",
      "naver;kakao;samsung\n",
      "naver/kakao/samsung\n",
      "naver/kakao/samsung\n"
     ]
    }
   ],
   "source": [
    "# 7번 & 8번, join을 사용해도 됨\n",
    "a = (\"naver\", \"kakao\", \"samsung\")\n",
    "b = \";\".join(a)\n",
    "print(\"naver\", \"kakao\", \"samsung\", sep=\";\")\n",
    "print(b)\n",
    "\n",
    "a = ('naver','kakao','samsung')\n",
    "b = \"/\".join(a)\n",
    "print(\"naver\", \"kakao\", \"samsung\", sep=\"/\")\n",
    "print(b)"
   ]
  },
  {
   "cell_type": "code",
   "execution_count": 13,
   "id": "848e25fc",
   "metadata": {
    "ExecuteTime": {
     "end_time": "2023-11-26T05:30:17.678616Z",
     "start_time": "2023-11-26T05:30:17.675606Z"
    }
   },
   "outputs": [
    {
     "name": "stdout",
     "output_type": "stream",
     "text": [
      "720.001 <class 'float'>\n"
     ]
    }
   ],
   "source": [
    "# 16번, int말고 float으로도 변환할 수 있음, 연산값을 출력하여 제대로 되어있는지 확인\n",
    "num_str = \"720\"  \n",
    "num_float = float(num_str)\n",
    "print(num_float+0.001, type(num_float))"
   ]
  },
  {
   "cell_type": "code",
   "execution_count": 17,
   "id": "7dd7e56a",
   "metadata": {
    "ExecuteTime": {
     "end_time": "2023-11-26T05:30:17.682916Z",
     "start_time": "2023-11-26T05:30:17.679621Z"
    }
   },
   "outputs": [
    {
     "name": "stdout",
     "output_type": "stream",
     "text": [
      "('A', 'b', 'c')\n",
      "('A', 'b', 'c')\n"
     ]
    }
   ],
   "source": [
    "#076, 튜플은 불변이므로 리스트, str로 바꿔준다음 수정하는방법도 있음\n",
    "t = ('a', 'b', 'c')\n",
    "t = list(t)\n",
    "t[0] = 'A'\n",
    "t = tuple(t)\n",
    "print(t)\n",
    "t = str(t)\n",
    "t.replace('a','A')\n",
    "print(t)"
   ]
  },
  {
   "cell_type": "code",
   "execution_count": null,
   "id": "dd18ad8c",
   "metadata": {},
   "outputs": [],
   "source": []
  },
  {
   "cell_type": "markdown",
   "id": "a686e84d",
   "metadata": {},
   "source": [
    "##  Bonus. f문자열을 적용하는 사례"
   ]
  },
  {
   "cell_type": "code",
   "execution_count": 73,
   "id": "9b22b7a1",
   "metadata": {
    "ExecuteTime": {
     "end_time": "2023-11-27T08:02:48.078804Z",
     "start_time": "2023-11-27T08:02:48.074749Z"
    }
   },
   "outputs": [
    {
     "data": {
      "text/plain": [
       "'지금은 2023-11-27 17:02:48.075747입니다'"
      ]
     },
     "execution_count": 73,
     "metadata": {},
     "output_type": "execute_result"
    }
   ],
   "source": [
    "from datetime import datetime # 파이썬 내장 함수인 datetime 임포트\n",
    "\n",
    "# f문자열을 출력할때마다 현재시간이 출력됨\n",
    "time_now = datetime.now()\n",
    "f'지금은 {time_now}입니다'"
   ]
  },
  {
   "cell_type": "code",
   "execution_count": 103,
   "id": "233e002f",
   "metadata": {
    "ExecuteTime": {
     "end_time": "2023-11-27T08:03:01.656750Z",
     "start_time": "2023-11-27T08:03:01.653522Z"
    }
   },
   "outputs": [
    {
     "name": "stdout",
     "output_type": "stream",
     "text": [
      "올해는 2023년, 이번달은 11월, 오늘은 27일.\n",
      "현재 시간은 17시 3분 1초\n"
     ]
    }
   ],
   "source": [
    "# datetime을 다양하게 활용하여 원하는 날짜형식, 시간 등을 출력할때마다 표현할 수 있음\n",
    "\n",
    "time_now = datetime.now()\n",
    "year = time_now.year\n",
    "month = time_now.month\n",
    "day = time_now.day\n",
    "hour, min, sec = time_now.hour, time_now.minute, time_now.second\n",
    "print(f'올해는 {year}년, 이번달은 {month}월, 오늘은 {day}일.\\n현재 시간은 {hour}시 {min}분 {sec}초')"
   ]
  },
  {
   "cell_type": "markdown",
   "id": "c1e3520d",
   "metadata": {
    "ExecuteTime": {
     "end_time": "2023-11-27T04:40:26.778885Z",
     "start_time": "2023-11-27T04:40:26.776545Z"
    }
   },
   "source": [
    "# 11.27 파이썬 딕셔너리 (80~100)"
   ]
  },
  {
   "cell_type": "code",
   "execution_count": 12,
   "id": "8a4c80bf",
   "metadata": {
    "ExecuteTime": {
     "end_time": "2023-11-27T05:02:19.289242Z",
     "start_time": "2023-11-27T05:02:19.285275Z"
    }
   },
   "outputs": [
    {
     "name": "stdout",
     "output_type": "stream",
     "text": [
      "좌측8개값 구하기\n",
      "star_expression\n",
      "[8.8, 8.9, 8.7, 9.2, 9.3, 9.7, 9.9, 9.5]\n",
      "indexing\n",
      "[8.8, 8.9, 8.7, 9.2, 9.3, 9.7, 9.9]\n",
      "우측8개값 구하기\n",
      "star_expression:[8.7, 9.2, 9.3, 9.7, 9.9, 9.5, 7.8, 9.4]\n",
      "indexing:[8.7, 9.2, 9.3, 9.7, 9.9, 9.5, 7.8, 9.4]\n",
      "중앙8개값 구하기\n",
      "star_expression:[8.9, 8.7, 9.2, 9.3, 9.7, 9.9, 9.5, 7.8]\n",
      "indexing:[8.9, 8.7, 9.2, 9.3, 9.7, 9.9, 9.5, 7.8]\n"
     ]
    }
   ],
   "source": [
    "# 81~83, 굳이 star expression을 쓰지 않아도 되지만, 경우에따라 적용\n",
    "\n",
    "scores = [8.8, 8.9, 8.7, 9.2, 9.3, 9.7, 9.9, 9.5, 7.8, 9.4]\n",
    "*Left_8, _, _ = scores\n",
    "print(f'좌측8개값 구하기\\nstar_expression\\n{Left_8}\\nindexing\\n{scores[:-3]}')\n",
    "_,_,*Right_8 = scores\n",
    "print(f'우측8개값 구하기\\nstar_expression:{Right_8}\\nindexing:{scores[2:]}')\n",
    "_, *mid_8, _ = scores\n",
    "print(f'중앙8개값 구하기\\nstar_expression:{mid_8}\\nindexing:{scores[1:-1]}')"
   ]
  },
  {
   "cell_type": "code",
   "execution_count": 21,
   "id": "e0c57c9e",
   "metadata": {
    "ExecuteTime": {
     "end_time": "2023-11-27T05:16:07.413015Z",
     "start_time": "2023-11-27T05:16:07.410132Z"
    }
   },
   "outputs": [
    {
     "name": "stdout",
     "output_type": "stream",
     "text": [
      "제품명\n",
      "['탱크보이', '폴라포', '빵빠레', '월드콘', '메로나']\n",
      "가격\n",
      "[1200, 1200, 1800, 1500, 1000]\n"
     ]
    }
   ],
   "source": [
    "# 85~86, 딕셔너리에서 값을 추출할때는 대부분 리스트로 변환해줌\n",
    "\n",
    "icecream = {'탱크보이': 1200, '폴라포': 1200, '빵빠레': 1800, '월드콘': 1500, '메로나': 1000}\n",
    "a = list(icecream.keys())\n",
    "b = list(icecream.values())\n",
    "print(f'제품명\\n{a}\\n가격\\n{b}')"
   ]
  },
  {
   "cell_type": "code",
   "execution_count": 23,
   "id": "5b11d731",
   "metadata": {
    "ExecuteTime": {
     "end_time": "2023-11-27T05:18:36.494819Z",
     "start_time": "2023-11-27T05:18:36.491875Z"
    }
   },
   "outputs": [
    {
     "name": "stdout",
     "output_type": "stream",
     "text": [
      "가격총합6700, 평균가격1340.0\n"
     ]
    }
   ],
   "source": [
    "# 97, 합을 구할 수 있다면 평균도 구해보기\n",
    "\n",
    "icecream = {'탱크보이': 1200, '폴라포': 1200, '빵빠레': 1800, '월드콘': 1500, '메로나': 1000}\n",
    "sum_ice = sum(icecream.values())\n",
    "avg_ice = sum_ice / len(icecream.values())\n",
    "print(f'가격총합{sum_ice}, 평균가격{avg_ice}')"
   ]
  },
  {
   "cell_type": "code",
   "execution_count": 32,
   "id": "68c1b0a3",
   "metadata": {
    "ExecuteTime": {
     "end_time": "2023-11-27T05:36:48.421592Z",
     "start_time": "2023-11-27T05:36:48.418102Z"
    }
   },
   "outputs": [
    {
     "name": "stdout",
     "output_type": "stream",
     "text": [
      "{'apple': 300, 'pear': 250, 'peach': 400}\n",
      "{'09/05': 10500, '09/06': 10300, '09/07': 10100, '09/08': 10800, '09/09': 11000}\n"
     ]
    }
   ],
   "source": [
    "# 99 ~ 100 zip은 결합, 새로운 객체 생성, for문 등 다양하게 쓰이니 기본적인 개념은 알아두기\n",
    "\n",
    "keys = (\"apple\", \"pear\", \"peach\")\n",
    "vals = (300, 250, 400)\n",
    "result = dict(zip(keys, vals))\n",
    "print(result)\n",
    "\n",
    "date = ['09/05', '09/06', '09/07', '09/08', '09/09']\n",
    "close_price = [10500, 10300, 10100, 10800, 11000]\n",
    "close_table = dict(zip(date, close_price))\n",
    "print(close_table)\n",
    "\n",
    "# dict가 아니라 list, tuple로도 가능함"
   ]
  },
  {
   "cell_type": "code",
   "execution_count": null,
   "id": "0b053ce4",
   "metadata": {},
   "outputs": [],
   "source": []
  }
 ],
 "metadata": {
  "kernelspec": {
   "display_name": "Python 3 (ipykernel)",
   "language": "python",
   "name": "python3"
  },
  "language_info": {
   "codemirror_mode": {
    "name": "ipython",
    "version": 3
   },
   "file_extension": ".py",
   "mimetype": "text/x-python",
   "name": "python",
   "nbconvert_exporter": "python",
   "pygments_lexer": "ipython3",
   "version": "3.11.5"
  },
  "toc": {
   "base_numbering": 1,
   "nav_menu": {},
   "number_sections": true,
   "sideBar": true,
   "skip_h1_title": false,
   "title_cell": "Table of Contents",
   "title_sidebar": "Contents",
   "toc_cell": false,
   "toc_position": {},
   "toc_section_display": true,
   "toc_window_display": false
  }
 },
 "nbformat": 4,
 "nbformat_minor": 5
}
