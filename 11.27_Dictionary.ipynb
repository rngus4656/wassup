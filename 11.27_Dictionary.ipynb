{
 "cells": [
  {
   "cell_type": "code",
   "execution_count": 1,
   "id": "a0b7c0e7",
   "metadata": {
    "ExecuteTime": {
     "end_time": "2023-11-27T01:30:33.455761Z",
     "start_time": "2023-11-27T01:30:33.449868Z"
    }
   },
   "outputs": [
    {
     "data": {
      "text/plain": [
       "{1: 'a', 2: 'b'}"
      ]
     },
     "execution_count": 1,
     "metadata": {},
     "output_type": "execute_result"
    }
   ],
   "source": [
    "a = {1:'a'}\n",
    "a[2] = 'b'\n",
    "a"
   ]
  },
  {
   "cell_type": "code",
   "execution_count": 2,
   "id": "8a748a06",
   "metadata": {
    "ExecuteTime": {
     "end_time": "2023-11-27T01:31:17.545520Z",
     "start_time": "2023-11-27T01:31:17.542126Z"
    }
   },
   "outputs": [
    {
     "data": {
      "text/plain": [
       "{1: 'a', 2: 'b', 'name': 'pey'}"
      ]
     },
     "execution_count": 2,
     "metadata": {},
     "output_type": "execute_result"
    }
   ],
   "source": [
    "a['name'] = 'pey'\n",
    "a"
   ]
  },
  {
   "cell_type": "code",
   "execution_count": 3,
   "id": "d95cef3c",
   "metadata": {
    "ExecuteTime": {
     "end_time": "2023-11-27T01:31:26.356922Z",
     "start_time": "2023-11-27T01:31:26.353842Z"
    }
   },
   "outputs": [
    {
     "data": {
      "text/plain": [
       "{2: 'b', 'name': 'pey'}"
      ]
     },
     "execution_count": 3,
     "metadata": {},
     "output_type": "execute_result"
    }
   ],
   "source": [
    "del a[1]\n",
    "a"
   ]
  },
  {
   "cell_type": "code",
   "execution_count": 5,
   "id": "1d688f9d",
   "metadata": {
    "ExecuteTime": {
     "end_time": "2023-11-27T01:32:04.567476Z",
     "start_time": "2023-11-27T01:32:04.563761Z"
    }
   },
   "outputs": [
    {
     "name": "stdout",
     "output_type": "stream",
     "text": [
      "10 99\n"
     ]
    }
   ],
   "source": [
    "grade = {'pey': 10, 'julliet': 99}\n",
    "print(grade['pey'], grade['julliet'])"
   ]
  },
  {
   "cell_type": "code",
   "execution_count": 7,
   "id": "57d46217",
   "metadata": {
    "ExecuteTime": {
     "end_time": "2023-11-27T01:35:57.832126Z",
     "start_time": "2023-11-27T01:35:57.828502Z"
    }
   },
   "outputs": [
    {
     "name": "stdout",
     "output_type": "stream",
     "text": [
      "dict_keys(['name', 'phone', 'birth']) dict_values(['pey', '010-9999-1234', '1118'])\n"
     ]
    }
   ],
   "source": [
    "# 키와 밸류 뽑는 메소드\n",
    "a = {'name': 'pey', 'phone': '010-9999-1234', 'birth': '1118'}\n",
    "print(a.keys(), a.values())"
   ]
  },
  {
   "cell_type": "code",
   "execution_count": 8,
   "id": "60f73230",
   "metadata": {
    "ExecuteTime": {
     "end_time": "2023-11-27T01:42:18.746361Z",
     "start_time": "2023-11-27T01:42:18.743451Z"
    }
   },
   "outputs": [
    {
     "name": "stdout",
     "output_type": "stream",
     "text": [
      "True\n",
      "False\n"
     ]
    }
   ],
   "source": [
    "a = {'name':'pey', 'phone':'010-9090-1234', 'birth':'1118'}\n",
    "print('name' in a)\n",
    "print('email' in a)"
   ]
  },
  {
   "cell_type": "code",
   "execution_count": 9,
   "id": "2d5e448b",
   "metadata": {
    "ExecuteTime": {
     "end_time": "2023-11-27T01:43:31.614987Z",
     "start_time": "2023-11-27T01:43:31.610905Z"
    }
   },
   "outputs": [
    {
     "data": {
      "text/plain": [
       "{1, 2, 3}"
      ]
     },
     "execution_count": 9,
     "metadata": {},
     "output_type": "execute_result"
    }
   ],
   "source": [
    "s1 = set([1,2,3])\n",
    "s1"
   ]
  },
  {
   "cell_type": "code",
   "execution_count": 10,
   "id": "6dd20c72",
   "metadata": {
    "ExecuteTime": {
     "end_time": "2023-11-27T01:43:46.372782Z",
     "start_time": "2023-11-27T01:43:46.369784Z"
    }
   },
   "outputs": [
    {
     "data": {
      "text/plain": [
       "{'H', 'e', 'l', 'o'}"
      ]
     },
     "execution_count": 10,
     "metadata": {},
     "output_type": "execute_result"
    }
   ],
   "source": [
    "s2 = set('Hello')\n",
    "s2"
   ]
  },
  {
   "cell_type": "code",
   "execution_count": 11,
   "id": "d5befe82",
   "metadata": {
    "ExecuteTime": {
     "end_time": "2023-11-27T01:45:48.356505Z",
     "start_time": "2023-11-27T01:45:48.353476Z"
    }
   },
   "outputs": [],
   "source": [
    "s1 = set([1, 2, 3, 4, 5, 6])\n",
    "s2 = set([4, 5, 6, 7, 8, 9])"
   ]
  },
  {
   "cell_type": "code",
   "execution_count": 12,
   "id": "4cf9f9b6",
   "metadata": {
    "ExecuteTime": {
     "end_time": "2023-11-27T01:45:59.246669Z",
     "start_time": "2023-11-27T01:45:59.242162Z"
    }
   },
   "outputs": [
    {
     "data": {
      "text/plain": [
       "{4, 5, 6}"
      ]
     },
     "execution_count": 12,
     "metadata": {},
     "output_type": "execute_result"
    }
   ],
   "source": [
    "s1 & s2"
   ]
  },
  {
   "cell_type": "code",
   "execution_count": 13,
   "id": "7027e070",
   "metadata": {
    "ExecuteTime": {
     "end_time": "2023-11-27T01:46:11.896404Z",
     "start_time": "2023-11-27T01:46:11.891898Z"
    }
   },
   "outputs": [
    {
     "data": {
      "text/plain": [
       "{4, 5, 6}"
      ]
     },
     "execution_count": 13,
     "metadata": {},
     "output_type": "execute_result"
    }
   ],
   "source": [
    "s1.intersection(s2)"
   ]
  },
  {
   "cell_type": "code",
   "execution_count": 14,
   "id": "007b4005",
   "metadata": {
    "ExecuteTime": {
     "end_time": "2023-11-27T01:46:16.917321Z",
     "start_time": "2023-11-27T01:46:16.913702Z"
    }
   },
   "outputs": [
    {
     "data": {
      "text/plain": [
       "{1, 2, 3, 4, 5, 6, 7, 8, 9}"
      ]
     },
     "execution_count": 14,
     "metadata": {},
     "output_type": "execute_result"
    }
   ],
   "source": [
    "s1 | s2"
   ]
  },
  {
   "cell_type": "code",
   "execution_count": 15,
   "id": "3d16ab99",
   "metadata": {
    "ExecuteTime": {
     "end_time": "2023-11-27T01:47:07.374501Z",
     "start_time": "2023-11-27T01:47:07.371112Z"
    }
   },
   "outputs": [
    {
     "data": {
      "text/plain": [
       "{1, 2, 3, 4, 5, 6, 7, 8, 9}"
      ]
     },
     "execution_count": 15,
     "metadata": {},
     "output_type": "execute_result"
    }
   ],
   "source": [
    "s1.union(s2)"
   ]
  },
  {
   "cell_type": "code",
   "execution_count": 16,
   "id": "603634a4",
   "metadata": {
    "ExecuteTime": {
     "end_time": "2023-11-27T01:49:18.053660Z",
     "start_time": "2023-11-27T01:49:18.049919Z"
    }
   },
   "outputs": [
    {
     "data": {
      "text/plain": [
       "{1, 2, 3}"
      ]
     },
     "execution_count": 16,
     "metadata": {},
     "output_type": "execute_result"
    }
   ],
   "source": [
    "s1 = set([1,2,3])\n",
    "s1"
   ]
  },
  {
   "cell_type": "code",
   "execution_count": 17,
   "id": "b4ee448c",
   "metadata": {
    "ExecuteTime": {
     "end_time": "2023-11-27T01:49:30.071357Z",
     "start_time": "2023-11-27T01:49:30.068069Z"
    }
   },
   "outputs": [
    {
     "data": {
      "text/plain": [
       "{1, 2, 3, 4}"
      ]
     },
     "execution_count": 17,
     "metadata": {},
     "output_type": "execute_result"
    }
   ],
   "source": [
    "s1.add(4)\n",
    "s1"
   ]
  },
  {
   "cell_type": "code",
   "execution_count": 18,
   "id": "4202b0b9",
   "metadata": {
    "ExecuteTime": {
     "end_time": "2023-11-27T01:49:54.407576Z",
     "start_time": "2023-11-27T01:49:54.403448Z"
    }
   },
   "outputs": [
    {
     "data": {
      "text/plain": [
       "{1, 2, 3, 4, 5, 6}"
      ]
     },
     "execution_count": 18,
     "metadata": {},
     "output_type": "execute_result"
    }
   ],
   "source": [
    "s1 = set([1,2,3])\n",
    "s1.update([4,5,6])\n",
    "s1"
   ]
  },
  {
   "cell_type": "code",
   "execution_count": 20,
   "id": "823c2f46",
   "metadata": {
    "ExecuteTime": {
     "end_time": "2023-11-27T01:54:30.639318Z",
     "start_time": "2023-11-27T01:54:30.278816Z"
    }
   },
   "outputs": [
    {
     "ename": "KeyError",
     "evalue": "2",
     "output_type": "error",
     "traceback": [
      "\u001b[1;31m---------------------------------------------------------------------------\u001b[0m",
      "\u001b[1;31mKeyError\u001b[0m                                  Traceback (most recent call last)",
      "Cell \u001b[1;32mIn[20], line 1\u001b[0m\n\u001b[1;32m----> 1\u001b[0m s1\u001b[38;5;241m.\u001b[39mremove(\u001b[38;5;241m2\u001b[39m)\n\u001b[0;32m      2\u001b[0m s1\n",
      "\u001b[1;31mKeyError\u001b[0m: 2"
     ]
    }
   ],
   "source": [
    "s1.remove(2)\n",
    "s1"
   ]
  },
  {
   "cell_type": "code",
   "execution_count": 24,
   "id": "10317162",
   "metadata": {
    "ExecuteTime": {
     "end_time": "2023-11-27T02:16:09.859369Z",
     "start_time": "2023-11-27T02:16:09.855391Z"
    }
   },
   "outputs": [
    {
     "data": {
      "text/plain": [
       "False"
      ]
     },
     "execution_count": 24,
     "metadata": {},
     "output_type": "execute_result"
    }
   ],
   "source": [
    "bool(0)"
   ]
  },
  {
   "cell_type": "code",
   "execution_count": 25,
   "id": "1e8ca070",
   "metadata": {
    "ExecuteTime": {
     "end_time": "2023-11-27T02:31:10.583906Z",
     "start_time": "2023-11-27T02:31:10.581664Z"
    }
   },
   "outputs": [],
   "source": [
    "a = [1,2,3]\n",
    "b=a"
   ]
  },
  {
   "cell_type": "code",
   "execution_count": 28,
   "id": "1c5c97b2",
   "metadata": {
    "ExecuteTime": {
     "end_time": "2023-11-27T02:31:32.784966Z",
     "start_time": "2023-11-27T02:31:32.781174Z"
    }
   },
   "outputs": [
    {
     "data": {
      "text/plain": [
       "[1, 4, 3]"
      ]
     },
     "execution_count": 28,
     "metadata": {},
     "output_type": "execute_result"
    }
   ],
   "source": [
    "a[1]=4\n",
    "b"
   ]
  },
  {
   "cell_type": "code",
   "execution_count": 30,
   "id": "84ffee10",
   "metadata": {
    "ExecuteTime": {
     "end_time": "2023-11-27T02:41:25.065117Z",
     "start_time": "2023-11-27T02:41:25.061262Z"
    }
   },
   "outputs": [
    {
     "name": "stdout",
     "output_type": "stream",
     "text": [
      "The Zen of Python, by Tim Peters\n",
      "\n",
      "Beautiful is better than ugly.\n",
      "Explicit is better than implicit.\n",
      "Simple is better than complex.\n",
      "Complex is better than complicated.\n",
      "Flat is better than nested.\n",
      "Sparse is better than dense.\n",
      "Readability counts.\n",
      "Special cases aren't special enough to break the rules.\n",
      "Although practicality beats purity.\n",
      "Errors should never pass silently.\n",
      "Unless explicitly silenced.\n",
      "In the face of ambiguity, refuse the temptation to guess.\n",
      "There should be one-- and preferably only one --obvious way to do it.\n",
      "Although that way may not be obvious at first unless you're Dutch.\n",
      "Now is better than never.\n",
      "Although never is often better than *right* now.\n",
      "If the implementation is hard to explain, it's a bad idea.\n",
      "If the implementation is easy to explain, it may be a good idea.\n",
      "Namespaces are one honking great idea -- let's do more of those!\n"
     ]
    }
   ],
   "source": [
    "import this"
   ]
  },
  {
   "cell_type": "code",
   "execution_count": 31,
   "id": "f8cab73b",
   "metadata": {
    "ExecuteTime": {
     "end_time": "2023-11-27T02:42:10.708472Z",
     "start_time": "2023-11-27T02:42:10.592755Z"
    }
   },
   "outputs": [],
   "source": [
    "import antigravity"
   ]
  },
  {
   "cell_type": "code",
   "execution_count": null,
   "id": "fc24f166",
   "metadata": {},
   "outputs": [],
   "source": []
  }
 ],
 "metadata": {
  "kernelspec": {
   "display_name": "Python 3 (ipykernel)",
   "language": "python",
   "name": "python3"
  },
  "language_info": {
   "codemirror_mode": {
    "name": "ipython",
    "version": 3
   },
   "file_extension": ".py",
   "mimetype": "text/x-python",
   "name": "python",
   "nbconvert_exporter": "python",
   "pygments_lexer": "ipython3",
   "version": "3.11.5"
  },
  "toc": {
   "base_numbering": 1,
   "nav_menu": {},
   "number_sections": true,
   "sideBar": true,
   "skip_h1_title": false,
   "title_cell": "Table of Contents",
   "title_sidebar": "Contents",
   "toc_cell": false,
   "toc_position": {},
   "toc_section_display": true,
   "toc_window_display": false
  }
 },
 "nbformat": 4,
 "nbformat_minor": 5
}
